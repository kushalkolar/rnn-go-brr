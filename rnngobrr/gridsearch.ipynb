{
 "cells": [
  {
   "cell_type": "code",
   "execution_count": 1,
   "id": "2b6ec7c6-dc74-403e-b59b-0e3ab3cf660b",
   "metadata": {},
   "outputs": [
    {
     "name": "stderr",
     "output_type": "stream",
     "text": [
      "2022-11-16 01:07:25.722606: I tensorflow/core/platform/cpu_feature_guard.cc:193] This TensorFlow binary is optimized with oneAPI Deep Neural Network Library (oneDNN) to use the following CPU instructions in performance-critical operations:  AVX2 FMA\n",
      "To enable them in other operations, rebuild TensorFlow with the appropriate compiler flags.\n",
      "2022-11-16 01:07:25.901507: E tensorflow/stream_executor/cuda/cuda_blas.cc:2981] Unable to register cuBLAS factory: Attempting to register factory for plugin cuBLAS when one has already been registered\n",
      "2022-11-16 01:07:26.423590: W tensorflow/stream_executor/platform/default/dso_loader.cc:64] Could not load dynamic library 'libnvinfer.so.7'; dlerror: libnvinfer.so.7: cannot open shared object file: No such file or directory; LD_LIBRARY_PATH: /usr/local/cuda-11.2/lib64:/usr/local/cuda-11.2/lib64\n",
      "2022-11-16 01:07:26.423717: W tensorflow/stream_executor/platform/default/dso_loader.cc:64] Could not load dynamic library 'libnvinfer_plugin.so.7'; dlerror: libnvinfer_plugin.so.7: cannot open shared object file: No such file or directory; LD_LIBRARY_PATH: /usr/local/cuda-11.2/lib64:/usr/local/cuda-11.2/lib64\n",
      "2022-11-16 01:07:26.423722: W tensorflow/compiler/tf2tensorrt/utils/py_utils.cc:38] TF-TRT Warning: Cannot dlopen some TensorRT libraries. If you would like to use Nvidia GPU with TensorRT, please make sure the missing libraries mentioned above are installed properly.\n",
      "2022-11-16 01:07:27.274704: I tensorflow/stream_executor/cuda/cuda_gpu_executor.cc:980] successful NUMA node read from SysFS had negative value (-1), but there must be at least one NUMA node, so returning NUMA node zero\n",
      "2022-11-16 01:07:27.297863: I tensorflow/stream_executor/cuda/cuda_gpu_executor.cc:980] successful NUMA node read from SysFS had negative value (-1), but there must be at least one NUMA node, so returning NUMA node zero\n",
      "2022-11-16 01:07:27.298379: I tensorflow/stream_executor/cuda/cuda_gpu_executor.cc:980] successful NUMA node read from SysFS had negative value (-1), but there must be at least one NUMA node, so returning NUMA node zero\n"
     ]
    }
   ],
   "source": [
    "import tensorflow as tf\n",
    "gpus = tf.config.experimental.list_physical_devices('GPU') \n",
    "for gpu in gpus:\n",
    "    tf.config.experimental.set_memory_growth(gpu, True) # limit gpu memory\n",
    "    \n",
    "from psychrnn.tasks.task import Task\n",
    "from psychrnn.backend.models.basic import Basic\n",
    "from psychrnn.backend.models.lstm import LSTM\n",
    "import numpy as np\n",
    "import scipy.io\n",
    "import pandas as pd\n",
    "import pickle\n",
    "import numpy as np\n",
    "from itertools import product\n",
    "from typing import *\n",
    "import os\n",
    "import json\n",
    "from uuid import uuid4, UUID\n",
    "from pathlib import Path\n",
    "from tqdm import tqdm\n",
    "from matplotlib import pyplot as plt\n",
    "from subprocess import Popen, DEVNULL\n",
    "from stat import S_IEXEC\n",
    "from time import sleep"
   ]
  },
  {
   "cell_type": "markdown",
   "id": "047430d5-3c26-4f25-a52e-5de7a1b62876",
   "metadata": {},
   "source": [
    "# Load teena's data that's organized-ish"
   ]
  },
  {
   "cell_type": "code",
   "execution_count": 2,
   "id": "4615d3d5-6c1c-4f99-abd8-ec0e29af7ccf",
   "metadata": {},
   "outputs": [],
   "source": [
    "teena_data = pd.read_pickle(\"./teena_df.pickle\")"
   ]
  },
  {
   "cell_type": "code",
   "execution_count": 3,
   "id": "066b4a85-0477-4476-8b7e-b89214cb33f9",
   "metadata": {},
   "outputs": [
    {
     "data": {
      "text/html": [
       "<div>\n",
       "<style scoped>\n",
       "    .dataframe tbody tr th:only-of-type {\n",
       "        vertical-align: middle;\n",
       "    }\n",
       "\n",
       "    .dataframe tbody tr th {\n",
       "        vertical-align: top;\n",
       "    }\n",
       "\n",
       "    .dataframe thead th {\n",
       "        text-align: right;\n",
       "    }\n",
       "</style>\n",
       "<table border=\"1\" class=\"dataframe\">\n",
       "  <thead>\n",
       "    <tr style=\"text-align: right;\">\n",
       "      <th></th>\n",
       "      <th>traj</th>\n",
       "      <th>file</th>\n",
       "      <th>sf</th>\n",
       "    </tr>\n",
       "  </thead>\n",
       "  <tbody>\n",
       "    <tr>\n",
       "      <th>0</th>\n",
       "      <td>[[222.1209111213684, 168.07275390625], [221.94...</td>\n",
       "      <td>/data2/kushal/inter_region/JoyJ2/121819_IT/Beh...</td>\n",
       "      <td>True</td>\n",
       "    </tr>\n",
       "    <tr>\n",
       "      <th>1</th>\n",
       "      <td>[[169.10160207748413, 175.90780782699585], [16...</td>\n",
       "      <td>/data2/kushal/inter_region/JoyJ2/121819_IT/Beh...</td>\n",
       "      <td>False</td>\n",
       "    </tr>\n",
       "    <tr>\n",
       "      <th>2</th>\n",
       "      <td>[[230.9175843000412, 184.91174030303955], [231...</td>\n",
       "      <td>/data2/kushal/inter_region/JoyJ2/121819_IT/Beh...</td>\n",
       "      <td>False</td>\n",
       "    </tr>\n",
       "    <tr>\n",
       "      <th>3</th>\n",
       "      <td>[[211.2449939250946, 173.9231698513031], [211....</td>\n",
       "      <td>/data2/kushal/inter_region/JoyJ2/121819_IT/Beh...</td>\n",
       "      <td>True</td>\n",
       "    </tr>\n",
       "    <tr>\n",
       "      <th>4</th>\n",
       "      <td>[[294.99583292007446, 73.52325487136841], [294...</td>\n",
       "      <td>/data2/kushal/inter_region/JoyJ2/121819_IT/Beh...</td>\n",
       "      <td>True</td>\n",
       "    </tr>\n",
       "    <tr>\n",
       "      <th>...</th>\n",
       "      <td>...</td>\n",
       "      <td>...</td>\n",
       "      <td>...</td>\n",
       "    </tr>\n",
       "    <tr>\n",
       "      <th>924</th>\n",
       "      <td>[[105.88987445831299, 211.26179087162018], [10...</td>\n",
       "      <td>/data2/kushal/inter_region/JoyM2/072619_PT/Beh...</td>\n",
       "      <td>True</td>\n",
       "    </tr>\n",
       "    <tr>\n",
       "      <th>925</th>\n",
       "      <td>[[99.2321879863739, 205.92135858535767], [99.0...</td>\n",
       "      <td>/data2/kushal/inter_region/JoyM2/072619_PT/Beh...</td>\n",
       "      <td>True</td>\n",
       "    </tr>\n",
       "    <tr>\n",
       "      <th>926</th>\n",
       "      <td>[[101.94186615943909, 202.87839889526367], [10...</td>\n",
       "      <td>/data2/kushal/inter_region/JoyM2/072619_PT/Beh...</td>\n",
       "      <td>True</td>\n",
       "    </tr>\n",
       "    <tr>\n",
       "      <th>927</th>\n",
       "      <td>[[99.41120111942291, 205.7405904531479], [99.7...</td>\n",
       "      <td>/data2/kushal/inter_region/JoyM2/072619_PT/Beh...</td>\n",
       "      <td>True</td>\n",
       "    </tr>\n",
       "    <tr>\n",
       "      <th>928</th>\n",
       "      <td>[[91.56641733646393, 218.76061391830444], [91....</td>\n",
       "      <td>/data2/kushal/inter_region/JoyM2/072619_PT/Beh...</td>\n",
       "      <td>True</td>\n",
       "    </tr>\n",
       "  </tbody>\n",
       "</table>\n",
       "<p>929 rows × 3 columns</p>\n",
       "</div>"
      ],
      "text/plain": [
       "                                                  traj  \\\n",
       "0    [[222.1209111213684, 168.07275390625], [221.94...   \n",
       "1    [[169.10160207748413, 175.90780782699585], [16...   \n",
       "2    [[230.9175843000412, 184.91174030303955], [231...   \n",
       "3    [[211.2449939250946, 173.9231698513031], [211....   \n",
       "4    [[294.99583292007446, 73.52325487136841], [294...   \n",
       "..                                                 ...   \n",
       "924  [[105.88987445831299, 211.26179087162018], [10...   \n",
       "925  [[99.2321879863739, 205.92135858535767], [99.0...   \n",
       "926  [[101.94186615943909, 202.87839889526367], [10...   \n",
       "927  [[99.41120111942291, 205.7405904531479], [99.7...   \n",
       "928  [[91.56641733646393, 218.76061391830444], [91....   \n",
       "\n",
       "                                                  file     sf  \n",
       "0    /data2/kushal/inter_region/JoyJ2/121819_IT/Beh...   True  \n",
       "1    /data2/kushal/inter_region/JoyJ2/121819_IT/Beh...  False  \n",
       "2    /data2/kushal/inter_region/JoyJ2/121819_IT/Beh...  False  \n",
       "3    /data2/kushal/inter_region/JoyJ2/121819_IT/Beh...   True  \n",
       "4    /data2/kushal/inter_region/JoyJ2/121819_IT/Beh...   True  \n",
       "..                                                 ...    ...  \n",
       "924  /data2/kushal/inter_region/JoyM2/072619_PT/Beh...   True  \n",
       "925  /data2/kushal/inter_region/JoyM2/072619_PT/Beh...   True  \n",
       "926  /data2/kushal/inter_region/JoyM2/072619_PT/Beh...   True  \n",
       "927  /data2/kushal/inter_region/JoyM2/072619_PT/Beh...   True  \n",
       "928  /data2/kushal/inter_region/JoyM2/072619_PT/Beh...   True  \n",
       "\n",
       "[929 rows x 3 columns]"
      ]
     },
     "execution_count": 3,
     "metadata": {},
     "output_type": "execute_result"
    }
   ],
   "source": [
    "teena_data"
   ]
  },
  {
   "cell_type": "markdown",
   "id": "43c4fec3-0c5c-4bf2-93cd-5ec3eac727d5",
   "metadata": {},
   "source": [
    "# Use only success data"
   ]
  },
  {
   "cell_type": "code",
   "execution_count": 4,
   "id": "e9d92735-e9a0-4931-aa04-6e1ffd6cddbd",
   "metadata": {},
   "outputs": [
    {
     "data": {
      "text/html": [
       "<div>\n",
       "<style scoped>\n",
       "    .dataframe tbody tr th:only-of-type {\n",
       "        vertical-align: middle;\n",
       "    }\n",
       "\n",
       "    .dataframe tbody tr th {\n",
       "        vertical-align: top;\n",
       "    }\n",
       "\n",
       "    .dataframe thead th {\n",
       "        text-align: right;\n",
       "    }\n",
       "</style>\n",
       "<table border=\"1\" class=\"dataframe\">\n",
       "  <thead>\n",
       "    <tr style=\"text-align: right;\">\n",
       "      <th></th>\n",
       "      <th>traj</th>\n",
       "      <th>file</th>\n",
       "      <th>sf</th>\n",
       "    </tr>\n",
       "  </thead>\n",
       "  <tbody>\n",
       "    <tr>\n",
       "      <th>0</th>\n",
       "      <td>[[222.1209111213684, 168.07275390625], [221.94...</td>\n",
       "      <td>/data2/kushal/inter_region/JoyJ2/121819_IT/Beh...</td>\n",
       "      <td>True</td>\n",
       "    </tr>\n",
       "    <tr>\n",
       "      <th>3</th>\n",
       "      <td>[[211.2449939250946, 173.9231698513031], [211....</td>\n",
       "      <td>/data2/kushal/inter_region/JoyJ2/121819_IT/Beh...</td>\n",
       "      <td>True</td>\n",
       "    </tr>\n",
       "    <tr>\n",
       "      <th>4</th>\n",
       "      <td>[[294.99583292007446, 73.52325487136841], [294...</td>\n",
       "      <td>/data2/kushal/inter_region/JoyJ2/121819_IT/Beh...</td>\n",
       "      <td>True</td>\n",
       "    </tr>\n",
       "    <tr>\n",
       "      <th>5</th>\n",
       "      <td>[[285.5730181336403, 78.19226586818695], [285....</td>\n",
       "      <td>/data2/kushal/inter_region/JoyJ2/121819_IT/Beh...</td>\n",
       "      <td>True</td>\n",
       "    </tr>\n",
       "    <tr>\n",
       "      <th>6</th>\n",
       "      <td>[[279.1388177871704, 78.51209497451782], [279....</td>\n",
       "      <td>/data2/kushal/inter_region/JoyJ2/121819_IT/Beh...</td>\n",
       "      <td>True</td>\n",
       "    </tr>\n",
       "    <tr>\n",
       "      <th>...</th>\n",
       "      <td>...</td>\n",
       "      <td>...</td>\n",
       "      <td>...</td>\n",
       "    </tr>\n",
       "    <tr>\n",
       "      <th>924</th>\n",
       "      <td>[[105.88987445831299, 211.26179087162018], [10...</td>\n",
       "      <td>/data2/kushal/inter_region/JoyM2/072619_PT/Beh...</td>\n",
       "      <td>True</td>\n",
       "    </tr>\n",
       "    <tr>\n",
       "      <th>925</th>\n",
       "      <td>[[99.2321879863739, 205.92135858535767], [99.0...</td>\n",
       "      <td>/data2/kushal/inter_region/JoyM2/072619_PT/Beh...</td>\n",
       "      <td>True</td>\n",
       "    </tr>\n",
       "    <tr>\n",
       "      <th>926</th>\n",
       "      <td>[[101.94186615943909, 202.87839889526367], [10...</td>\n",
       "      <td>/data2/kushal/inter_region/JoyM2/072619_PT/Beh...</td>\n",
       "      <td>True</td>\n",
       "    </tr>\n",
       "    <tr>\n",
       "      <th>927</th>\n",
       "      <td>[[99.41120111942291, 205.7405904531479], [99.7...</td>\n",
       "      <td>/data2/kushal/inter_region/JoyM2/072619_PT/Beh...</td>\n",
       "      <td>True</td>\n",
       "    </tr>\n",
       "    <tr>\n",
       "      <th>928</th>\n",
       "      <td>[[91.56641733646393, 218.76061391830444], [91....</td>\n",
       "      <td>/data2/kushal/inter_region/JoyM2/072619_PT/Beh...</td>\n",
       "      <td>True</td>\n",
       "    </tr>\n",
       "  </tbody>\n",
       "</table>\n",
       "<p>702 rows × 3 columns</p>\n",
       "</div>"
      ],
      "text/plain": [
       "                                                  traj  \\\n",
       "0    [[222.1209111213684, 168.07275390625], [221.94...   \n",
       "3    [[211.2449939250946, 173.9231698513031], [211....   \n",
       "4    [[294.99583292007446, 73.52325487136841], [294...   \n",
       "5    [[285.5730181336403, 78.19226586818695], [285....   \n",
       "6    [[279.1388177871704, 78.51209497451782], [279....   \n",
       "..                                                 ...   \n",
       "924  [[105.88987445831299, 211.26179087162018], [10...   \n",
       "925  [[99.2321879863739, 205.92135858535767], [99.0...   \n",
       "926  [[101.94186615943909, 202.87839889526367], [10...   \n",
       "927  [[99.41120111942291, 205.7405904531479], [99.7...   \n",
       "928  [[91.56641733646393, 218.76061391830444], [91....   \n",
       "\n",
       "                                                  file    sf  \n",
       "0    /data2/kushal/inter_region/JoyJ2/121819_IT/Beh...  True  \n",
       "3    /data2/kushal/inter_region/JoyJ2/121819_IT/Beh...  True  \n",
       "4    /data2/kushal/inter_region/JoyJ2/121819_IT/Beh...  True  \n",
       "5    /data2/kushal/inter_region/JoyJ2/121819_IT/Beh...  True  \n",
       "6    /data2/kushal/inter_region/JoyJ2/121819_IT/Beh...  True  \n",
       "..                                                 ...   ...  \n",
       "924  /data2/kushal/inter_region/JoyM2/072619_PT/Beh...  True  \n",
       "925  /data2/kushal/inter_region/JoyM2/072619_PT/Beh...  True  \n",
       "926  /data2/kushal/inter_region/JoyM2/072619_PT/Beh...  True  \n",
       "927  /data2/kushal/inter_region/JoyM2/072619_PT/Beh...  True  \n",
       "928  /data2/kushal/inter_region/JoyM2/072619_PT/Beh...  True  \n",
       "\n",
       "[702 rows x 3 columns]"
      ]
     },
     "execution_count": 4,
     "metadata": {},
     "output_type": "execute_result"
    }
   ],
   "source": [
    "# use only success data\n",
    "teena_data = teena_data[teena_data[\"sf\"] == True]\n",
    "teena_data"
   ]
  },
  {
   "cell_type": "markdown",
   "id": "2609c705-7e8e-4e47-aa9a-a6be6c47d0a9",
   "metadata": {},
   "source": [
    "# `dstack`, shape should be [n_frames_vid, xy, n_trials]"
   ]
  },
  {
   "cell_type": "code",
   "execution_count": 5,
   "id": "0000469e-6bb4-4075-a6e0-eb82796b1a82",
   "metadata": {},
   "outputs": [
    {
     "data": {
      "text/plain": [
       "(4997, 2, 702)"
      ]
     },
     "execution_count": 5,
     "metadata": {},
     "output_type": "execute_result"
    }
   ],
   "source": [
    "teena_data_array = np.dstack(teena_data[\"traj\"])\n",
    "teena_data_array.shape"
   ]
  },
  {
   "cell_type": "markdown",
   "id": "84f2eb62-5370-49dd-83e1-3e949bd03975",
   "metadata": {},
   "source": [
    "# Use only first 2500 frames, behavior usually occurs within this timespan"
   ]
  },
  {
   "cell_type": "code",
   "execution_count": 6,
   "id": "c3d306c9-0aa5-417d-8378-b2e7f82dde34",
   "metadata": {},
   "outputs": [],
   "source": [
    "traj_data = teena_data_array[:2500, :, :100]"
   ]
  },
  {
   "cell_type": "code",
   "execution_count": 7,
   "id": "e6f3268b-43be-4426-ab46-2fbc63ba53ec",
   "metadata": {},
   "outputs": [
    {
     "data": {
      "text/plain": [
       "(2500, 2, 100)"
      ]
     },
     "execution_count": 7,
     "metadata": {},
     "output_type": "execute_result"
    }
   ],
   "source": [
    "traj_data.shape"
   ]
  },
  {
   "cell_type": "markdown",
   "id": "3ef4bd97-a4ce-420f-a48c-f3de05d531b7",
   "metadata": {},
   "source": [
    "# Define behavioral task, basically just samples `traj_data`"
   ]
  },
  {
   "cell_type": "code",
   "execution_count": 8,
   "id": "26e9eb63-6ae8-45aa-82bd-557d9649ee27",
   "metadata": {},
   "outputs": [],
   "source": [
    "class Reach2Grab(Task):\n",
    "    def __init__(self, dt, tau, T, N_batch):\n",
    "        super(Reach2Grab, self).__init__(1, 2, dt, tau, T, N_batch)\n",
    "\n",
    "    def generate_trial_params(self, batch, trial):\n",
    "        \"\"\"\"Define parameters for each trial.\n",
    "\n",
    "        Using a combination of randomness, presets, and task attributes, define the necessary trial parameters.\n",
    "\n",
    "        Args:\n",
    "            batch (int): The batch number that this trial is part of.\n",
    "            trial (int): The trial number of the trial within the batch.\n",
    "\n",
    "        Returns:\n",
    "            dict: Dictionary of trial parameters.\n",
    "\n",
    "        \"\"\"\n",
    "\n",
    "        # ----------------------------------\n",
    "        # Define parameters of a trial\n",
    "        # ----------------------------------\n",
    "        params = dict()\n",
    "        params[\"trial_ix\"] = np.random.randint(0, traj_data.shape[2])\n",
    "\n",
    "        return params\n",
    "\n",
    "    def trial_function(self, time, params):\n",
    "        \"\"\" Compute the trial properties at the given time.\n",
    "\n",
    "        Based on the params compute the trial stimulus (x_t), correct output (y_t), and mask (mask_t) at the given time.\n",
    "\n",
    "        Args:\n",
    "            time (int): The time within the trial (0 <= time < T).\n",
    "            params (dict): The trial params produced generate_trial_params()\n",
    "\n",
    "        Returns:\n",
    "            tuple:\n",
    "\n",
    "            x_t (ndarray(dtype=float, shape=(N_in,))): Trial input at time given params.\n",
    "            y_t (ndarray(dtype=float, shape=(N_out,))): Correct trial output at time given params.\n",
    "            mask_t (ndarray(dtype=bool, shape=(N_out,))): True if the network should train to match the y_t, False if the network should ignore y_t when training.\n",
    "\n",
    "        \"\"\"\n",
    "        x_t = 1 # just a \"go\" cue\n",
    "        y_t = traj_data[time, :, params[\"trial_ix\"]]\n",
    "        \n",
    "        mask_t = np.ones(shape=y_t.shape, dtype=bool)\n",
    "        \n",
    "        # trajectory that matches direction \n",
    "        \n",
    "        # y_t returns a trajectory\n",
    "\n",
    "        return x_t, y_t, mask_t"
   ]
  },
  {
   "cell_type": "markdown",
   "id": "f769a00c-6b64-4d50-baac-acd1a5e4b210",
   "metadata": {},
   "source": [
    "# functions to save and load models to a dir because PsychRNN doesn't implement this properly ¯\\\\\\_(ツ)_/¯"
   ]
  },
  {
   "cell_type": "code",
   "execution_count": 9,
   "id": "acdd5c13-259e-4379-9dfc-07d69b445224",
   "metadata": {},
   "outputs": [],
   "source": [
    "def save_model(m: Union[Basic, LSTM], u: Union[str, UUID]):\n",
    "    d = Path(f\"/home/kushalk/repos/rnn-go-brr/rnngobrr/models/{u}\")\n",
    "    weights_path = d.joinpath(\"weights\")\n",
    "    params_path = d.joinpath(\"params.json\")\n",
    "    os.mkdir(d)\n",
    "    \n",
    "    m.save(weights_path)\n",
    "    json.dump(m.params, open(params_path, \"w\"))\n",
    "\n",
    "\n",
    "def load_model(m: str, u: Union[str, UUID]) -> Union[Basic, LSTM]:\n",
    "    d = Path(f\"/home/kushalk/repos/rnn-go-brr/rnngobrr/models/{u}\")\n",
    "    # need to specify extension, these guys are so inconsistent (╯°□°)╯︵ ┻━┻\n",
    "    weights_path = d.joinpath(\"weights.npz\")\n",
    "    params_path = d.joinpath(\"params.json\")\n",
    "    \n",
    "    params = json.load(open(params_path, \"r\"))\n",
    "    params[\"name\"] = str(u)\n",
    "    params[\"load_weights_path\"] = weights_path\n",
    "    \n",
    "    if m == \"Basic\":\n",
    "        return Basic(params)\n",
    "    elif m == \"LSTM\":\n",
    "        return LSTM(params)"
   ]
  },
  {
   "cell_type": "markdown",
   "id": "1d28f7a8-0147-4e66-9ba9-8dba50ea914f",
   "metadata": {},
   "source": [
    "# `gs_params` defines search range for each param"
   ]
  },
  {
   "cell_type": "code",
   "execution_count": 10,
   "id": "df2281b9-2843-42ba-b975-74852cb4f209",
   "metadata": {},
   "outputs": [
    {
     "data": {
      "text/plain": [
       "{'dt': [1, 3, 5, 7, 9, 11],\n",
       " 'tau': [10, 60, 110, 160],\n",
       " 'T': [2500],\n",
       " 'learning_rate': array([1.e-04, 1.e-06, 1.e-08]),\n",
       " 'training_iters': [100, 200, 300, 400, 500],\n",
       " 'N_rec': [100, 300, 500]}"
      ]
     },
     "execution_count": 10,
     "metadata": {},
     "output_type": "execute_result"
    }
   ],
   "source": [
    "gs_params = {\n",
    "    \"dt\": list(range(1, 13, 2)),\n",
    "    \"tau\": list(range(10, 201, 50)),\n",
    "    \"T\": [traj_data.shape[0]], # num frames to use\n",
    "    \"learning_rate\": 1 / 10 ** np.arange(4, 10, 2),\n",
    "    \"training_iters\": list(range(100, 501, 100)),\n",
    "    \"N_rec\": list(range(100, 501, 200)), # number of neurons\n",
    "}\n",
    "\n",
    "# this is the same order that must be used when using the iterator!!\n",
    "# dict keys don't return stuff in order, so gs_params.keys() shouldn't be used for this!!\n",
    "gs_param_names = [\n",
    "    \"dt\",\n",
    "    \"tau\",\n",
    "    \"T\",\n",
    "    \"learning_rate\",\n",
    "    \"training_iters\",\n",
    "    \"N_rec\"\n",
    "]\n",
    "\n",
    "gs_params"
   ]
  },
  {
   "cell_type": "markdown",
   "id": "ea6af11e-4c06-447c-9140-811215da1627",
   "metadata": {},
   "source": [
    "# Create iterator using all possible combinations of search parameters, check number of variants"
   ]
  },
  {
   "cell_type": "code",
   "execution_count": 11,
   "id": "b2104644-41d0-43be-9bd5-c20cc1e801ba",
   "metadata": {},
   "outputs": [
    {
     "data": {
      "text/plain": [
       "1080"
      ]
     },
     "execution_count": 11,
     "metadata": {},
     "output_type": "execute_result"
    }
   ],
   "source": [
    "iterator = product(*[gs_params[k] for k in gs_param_names])\n",
    "iterator = list(iterator)\n",
    "len(iterator)"
   ]
  },
  {
   "cell_type": "markdown",
   "id": "629748ee-2634-4b77-bc9d-79184c560ac3",
   "metadata": {},
   "source": [
    "# Write dataframe to use for gridsearch"
   ]
  },
  {
   "cell_type": "code",
   "execution_count": 12,
   "id": "f14d8c11-8d94-48eb-adce-214bc952de78",
   "metadata": {},
   "outputs": [
    {
     "name": "stderr",
     "output_type": "stream",
     "text": [
      "100%|████████████████████████████████████████████████████████████████████| 1080/1080 [00:01<00:00, 913.92it/s]\n"
     ]
    }
   ],
   "source": [
    "columns = gs_param_names + [\"uuid\", \"arch\", \"task_params\"]\n",
    "\n",
    "df = pd.DataFrame(columns=columns)\n",
    "\n",
    "\n",
    "for dt, tau, T, learning_rate, training_iters, N_rec in tqdm(iterator, total=len(iterator)):\n",
    "    u = uuid4() # to keep track of this model\n",
    "    \n",
    "    # create df row\n",
    "    s = pd.Series(\n",
    "        {\n",
    "            \"uuid\": str(u),\n",
    "            \"arch\": \"Basic\",\n",
    "            \"dt\": dt,\n",
    "            \"tau\": tau,\n",
    "            \"T\": T,\n",
    "            \"learning_rate\": learning_rate,\n",
    "            \"training_iters\": training_iters,\n",
    "            \"N_rec\": N_rec,\n",
    "            \"task_params\": Reach2Grab(dt=dt, tau=tau, T=T, N_batch=128).get_task_params()\n",
    "        }\n",
    "    )\n",
    "    \n",
    "    # append to dataframe\n",
    "    df.loc[df.index.size] = s\n",
    "\n",
    "df.to_pickle(\"./models_dataframe.pickle\")"
   ]
  },
  {
   "cell_type": "code",
   "execution_count": 13,
   "id": "443e8974-fc34-4485-9ed3-7a1797d17549",
   "metadata": {},
   "outputs": [
    {
     "name": "stdout",
     "output_type": "stream",
     "text": [
      "mkdir: cannot create directory ‘./runfiles’: File exists\n"
     ]
    }
   ],
   "source": [
    "!mkdir ./runfiles"
   ]
  },
  {
   "cell_type": "markdown",
   "id": "c9e03066-0d2b-420a-8543-f1adab5acb92",
   "metadata": {
    "tags": []
   },
   "source": [
    "# Use `subprocess` to do the gridsearch since tensorflow sessions can't be pickled so process Pool doesn't work"
   ]
  },
  {
   "cell_type": "code",
   "execution_count": null,
   "id": "73b3e3f2-8e3e-403f-b8f4-a17bce07001f",
   "metadata": {},
   "outputs": [
    {
     "name": "stderr",
     "output_type": "stream",
     "text": [
      "  1%|▉                                                                     | 14/1080 [00:13<00:07, 138.09it/s]"
     ]
    },
    {
     "name": "stdout",
     "output_type": "stream",
     "text": [
      "Optimization finished!\n",
      "Optimization finished!\n"
     ]
    },
    {
     "name": "stderr",
     "output_type": "stream",
     "text": [
      "  2%|█▎                                                                   | 21/1080 [03:20<3:30:27, 11.92s/it]"
     ]
    },
    {
     "name": "stdout",
     "output_type": "stream",
     "text": [
      "Optimization finished!\n"
     ]
    },
    {
     "name": "stderr",
     "output_type": "stream",
     "text": [
      "  2%|█▍                                                                   | 22/1080 [03:30<3:27:38, 11.78s/it]"
     ]
    },
    {
     "name": "stdout",
     "output_type": "stream",
     "text": [
      "Optimization finished!\n"
     ]
    },
    {
     "name": "stderr",
     "output_type": "stream",
     "text": [
      "  2%|█▍                                                                   | 23/1080 [03:40<3:24:22, 11.60s/it]"
     ]
    },
    {
     "name": "stdout",
     "output_type": "stream",
     "text": [
      "Optimization finished!\n",
      "Optimization finished!\n"
     ]
    },
    {
     "name": "stderr",
     "output_type": "stream",
     "text": [
      "  2%|█▌                                                                   | 24/1080 [04:03<3:09:38, 10.77s/it]"
     ]
    },
    {
     "name": "stdout",
     "output_type": "stream",
     "text": [
      "Optimization finished!\n"
     ]
    },
    {
     "name": "stderr",
     "output_type": "stream",
     "text": [
      "  2%|█▋                                                                  | 27/1080 [09:05<12:59:05, 44.39s/it]"
     ]
    },
    {
     "name": "stdout",
     "output_type": "stream",
     "text": [
      "Optimization finished!\n"
     ]
    },
    {
     "name": "stderr",
     "output_type": "stream",
     "text": [
      "  4%|██▋                                                                  | 42/1080 [10:31<2:38:29,  9.16s/it]"
     ]
    },
    {
     "name": "stdout",
     "output_type": "stream",
     "text": [
      "Optimization finished!\n",
      "Optimization finished!\n"
     ]
    },
    {
     "name": "stderr",
     "output_type": "stream",
     "text": [
      "  4%|██▊                                                                  | 44/1080 [10:46<2:26:21,  8.48s/it]"
     ]
    },
    {
     "name": "stdout",
     "output_type": "stream",
     "text": [
      "Optimization finished!\n"
     ]
    },
    {
     "name": "stderr",
     "output_type": "stream",
     "text": [
      "  5%|███▏                                                                 | 49/1080 [11:06<1:38:31,  5.73s/it]"
     ]
    },
    {
     "name": "stdout",
     "output_type": "stream",
     "text": [
      "Optimization finished!\n",
      "Optimization finished!\n"
     ]
    },
    {
     "name": "stderr",
     "output_type": "stream",
     "text": [
      "  5%|███▎                                                                 | 52/1080 [12:06<3:10:18, 11.11s/it]"
     ]
    },
    {
     "name": "stdout",
     "output_type": "stream",
     "text": [
      "Optimization finished!\n"
     ]
    },
    {
     "name": "stderr",
     "output_type": "stream",
     "text": [
      "  6%|███▉                                                                 | 62/1080 [13:16<1:41:04,  5.96s/it]"
     ]
    },
    {
     "name": "stdout",
     "output_type": "stream",
     "text": [
      "Optimization finished!\n",
      "Optimization finished!\n"
     ]
    },
    {
     "name": "stderr",
     "output_type": "stream",
     "text": [
      "  6%|████                                                                 | 63/1080 [13:31<2:18:33,  8.17s/it]"
     ]
    },
    {
     "name": "stdout",
     "output_type": "stream",
     "text": [
      "Optimization finished!\n",
      "Optimization finished!\n"
     ]
    },
    {
     "name": "stderr",
     "output_type": "stream",
     "text": [
      "  6%|████▏                                                                | 66/1080 [13:46<1:45:45,  6.26s/it]"
     ]
    },
    {
     "name": "stdout",
     "output_type": "stream",
     "text": [
      "Optimization finished!\n"
     ]
    },
    {
     "name": "stderr",
     "output_type": "stream",
     "text": [
      "  6%|████▎                                                                | 68/1080 [14:07<2:13:44,  7.93s/it]"
     ]
    },
    {
     "name": "stdout",
     "output_type": "stream",
     "text": [
      "Optimization finished!\n",
      "Optimization finished!\n"
     ]
    },
    {
     "name": "stderr",
     "output_type": "stream",
     "text": [
      "  6%|████▍                                                                | 70/1080 [16:32<8:39:07, 30.84s/it]"
     ]
    },
    {
     "name": "stdout",
     "output_type": "stream",
     "text": [
      "Optimization finished!\n"
     ]
    },
    {
     "name": "stderr",
     "output_type": "stream",
     "text": [
      "  7%|████▌                                                                | 71/1080 [16:52<7:50:02, 27.95s/it]"
     ]
    },
    {
     "name": "stdout",
     "output_type": "stream",
     "text": [
      "Optimization finished!\n"
     ]
    },
    {
     "name": "stderr",
     "output_type": "stream",
     "text": [
      "  7%|████▋                                                               | 74/1080 [20:27<14:07:48, 50.57s/it]"
     ]
    },
    {
     "name": "stdout",
     "output_type": "stream",
     "text": [
      "Optimization finished!\n",
      "Optimization finished!\n"
     ]
    },
    {
     "name": "stderr",
     "output_type": "stream",
     "text": [
      "  7%|████▋                                                               | 75/1080 [20:52<12:02:23, 43.13s/it]"
     ]
    },
    {
     "name": "stdout",
     "output_type": "stream",
     "text": [
      "Optimization finished!\n"
     ]
    },
    {
     "name": "stderr",
     "output_type": "stream",
     "text": [
      "  7%|████▉                                                                | 77/1080 [21:07<7:30:32, 26.95s/it]"
     ]
    },
    {
     "name": "stdout",
     "output_type": "stream",
     "text": [
      "Optimization finished!\n"
     ]
    },
    {
     "name": "stderr",
     "output_type": "stream",
     "text": [
      "  7%|█████                                                                | 79/1080 [22:02<7:30:46, 27.02s/it]"
     ]
    },
    {
     "name": "stdout",
     "output_type": "stream",
     "text": [
      "Optimization finished!\n"
     ]
    },
    {
     "name": "stderr",
     "output_type": "stream",
     "text": [
      "  8%|█████▎                                                               | 83/1080 [22:47<4:08:19, 14.94s/it]"
     ]
    },
    {
     "name": "stdout",
     "output_type": "stream",
     "text": [
      "Optimization finished!\n",
      "Optimization finished!\n"
     ]
    },
    {
     "name": "stderr",
     "output_type": "stream",
     "text": [
      "  8%|█████▌                                                               | 88/1080 [23:17<2:01:06,  7.32s/it]"
     ]
    },
    {
     "name": "stdout",
     "output_type": "stream",
     "text": [
      "Optimization finished!\n",
      "Optimization finished!\n"
     ]
    },
    {
     "name": "stderr",
     "output_type": "stream",
     "text": [
      "  8%|█████▋                                                               | 89/1080 [23:32<2:28:57,  9.02s/it]"
     ]
    },
    {
     "name": "stdout",
     "output_type": "stream",
     "text": [
      "Optimization finished!\n",
      "Optimization finished!\n"
     ]
    },
    {
     "name": "stderr",
     "output_type": "stream",
     "text": [
      "  9%|█████▉                                                               | 92/1080 [23:48<1:54:25,  6.95s/it]"
     ]
    },
    {
     "name": "stdout",
     "output_type": "stream",
     "text": [
      "Optimization finished!\n"
     ]
    },
    {
     "name": "stderr",
     "output_type": "stream",
     "text": [
      "  9%|█████▉                                                               | 93/1080 [24:53<5:39:43, 20.65s/it]"
     ]
    },
    {
     "name": "stdout",
     "output_type": "stream",
     "text": [
      "Optimization finished!\n"
     ]
    },
    {
     "name": "stderr",
     "output_type": "stream",
     "text": [
      "  9%|██████                                                               | 94/1080 [25:48<8:01:52, 29.32s/it]"
     ]
    },
    {
     "name": "stdout",
     "output_type": "stream",
     "text": [
      "Optimization finished!\n"
     ]
    },
    {
     "name": "stderr",
     "output_type": "stream",
     "text": [
      "  9%|██████▏                                                              | 96/1080 [26:08<5:33:21, 20.33s/it]"
     ]
    },
    {
     "name": "stdout",
     "output_type": "stream",
     "text": [
      "Optimization finished!\n"
     ]
    },
    {
     "name": "stderr",
     "output_type": "stream",
     "text": [
      "  9%|██████▏                                                              | 97/1080 [26:18<4:45:32, 17.43s/it]"
     ]
    },
    {
     "name": "stdout",
     "output_type": "stream",
     "text": [
      "Optimization finished!\n"
     ]
    },
    {
     "name": "stderr",
     "output_type": "stream",
     "text": [
      "  9%|██████▎                                                              | 98/1080 [26:33<4:34:02, 16.74s/it]"
     ]
    },
    {
     "name": "stdout",
     "output_type": "stream",
     "text": [
      "Optimization finished!\n"
     ]
    },
    {
     "name": "stderr",
     "output_type": "stream",
     "text": [
      "  9%|██████▎                                                              | 99/1080 [26:43<4:01:52, 14.79s/it]"
     ]
    },
    {
     "name": "stdout",
     "output_type": "stream",
     "text": [
      "Optimization finished!\n"
     ]
    },
    {
     "name": "stderr",
     "output_type": "stream",
     "text": [
      "  9%|██████▎                                                            | 102/1080 [30:38<15:31:51, 57.17s/it]"
     ]
    },
    {
     "name": "stdout",
     "output_type": "stream",
     "text": [
      "Optimization finished!\n"
     ]
    },
    {
     "name": "stderr",
     "output_type": "stream",
     "text": [
      " 10%|██████▋                                                             | 106/1080 [31:08<6:15:54, 23.16s/it]"
     ]
    },
    {
     "name": "stdout",
     "output_type": "stream",
     "text": [
      "Optimization finished!\n"
     ]
    },
    {
     "name": "stderr",
     "output_type": "stream",
     "text": [
      " 10%|██████▊                                                             | 109/1080 [31:23<3:30:52, 13.03s/it]"
     ]
    }
   ],
   "source": [
    "processes = list()\n",
    "\n",
    "for i, r in tqdm(df.iterrows(), total=df.index.size):\n",
    "    runfile =\\\n",
    "        f\"#!/bin/bash\\n\"\\\n",
    "        f\"source /home/kushalk/.bashrc\\n\"\\\n",
    "        f\"source /home/kushalk/python-venvs/stor566/bin/activate\\n\"\\\n",
    "        f\"python /home/kushalk/repos/rnn-go-brr/rnngobrr/run_grid.py --uuid {r.uuid}\"\n",
    "    \n",
    "    runfile_path = f\"./runfiles/{r.uuid}\"\n",
    "    \n",
    "    with open(runfile_path, \"w\") as f:\n",
    "        f.write(runfile)\n",
    "        \n",
    "    st = os.stat(runfile_path)\n",
    "    os.chmod(runfile_path, st.st_mode | S_IEXEC)\n",
    "    \n",
    "    proc = Popen(runfile_path, cwd=\"./\", stderr=DEVNULL)\n",
    "    processes.append(proc)\n",
    "    \n",
    "    while [p.poll() is None for p in processes].count(True) > 20: # set max number of simultaneous subprocs\n",
    "        sleep(5)"
   ]
  },
  {
   "cell_type": "markdown",
   "id": "6b96c0c8-fc72-4cb3-9ca1-12c264289be2",
   "metadata": {},
   "source": [
    "# Old stuff below"
   ]
  },
  {
   "cell_type": "code",
   "execution_count": 21,
   "id": "e4bb506a-ce38-4394-a894-a17f8c388ec2",
   "metadata": {},
   "outputs": [
    {
     "name": "stderr",
     "output_type": "stream",
     "text": [
      "  0%|                                                                                | 0/1080 [00:00<?, ?it/s]2022-11-15 23:50:25.900447: I tensorflow/stream_executor/cuda/cuda_gpu_executor.cc:980] successful NUMA node read from SysFS had negative value (-1), but there must be at least one NUMA node, so returning NUMA node zero\n",
      "2022-11-15 23:50:25.901040: I tensorflow/stream_executor/cuda/cuda_gpu_executor.cc:980] successful NUMA node read from SysFS had negative value (-1), but there must be at least one NUMA node, so returning NUMA node zero\n",
      "2022-11-15 23:50:25.901546: I tensorflow/stream_executor/cuda/cuda_gpu_executor.cc:980] successful NUMA node read from SysFS had negative value (-1), but there must be at least one NUMA node, so returning NUMA node zero\n",
      "2022-11-15 23:50:25.902076: I tensorflow/stream_executor/cuda/cuda_gpu_executor.cc:980] successful NUMA node read from SysFS had negative value (-1), but there must be at least one NUMA node, so returning NUMA node zero\n",
      "2022-11-15 23:50:25.902569: I tensorflow/stream_executor/cuda/cuda_gpu_executor.cc:980] successful NUMA node read from SysFS had negative value (-1), but there must be at least one NUMA node, so returning NUMA node zero\n",
      "2022-11-15 23:50:25.903034: I tensorflow/core/common_runtime/gpu/gpu_device.cc:1616] Created device /job:localhost/replica:0/task:0/device:GPU:0 with 21228 MB memory:  -> device: 0, name: NVIDIA GeForce RTX 3090, pci bus id: 0000:0a:00.0, compute capability: 8.6\n"
     ]
    },
    {
     "name": "stdout",
     "output_type": "stream",
     "text": [
      "Optimization finished!\n"
     ]
    },
    {
     "name": "stderr",
     "output_type": "stream",
     "text": [
      "  0%|                                                                                | 0/1080 [06:04<?, ?it/s]\n"
     ]
    }
   ],
   "source": [
    "columns = gs_param_names + [\"uuid\", \"arch\"]\n",
    "\n",
    "df = pd.DataFrame(columns=columns)\n",
    "\n",
    "for dt, tau, T, learning_rate, training_iters, N_rec in tqdm(iterator, total=n_combos):\n",
    "    u = uuid4() # to keep track of this model\n",
    "    \n",
    "    task = Reach2Grab(dt=dt, tau=tau, T=T, N_batch=128)\n",
    "    \n",
    "    network_params = task.get_task_params()\n",
    "    network_params['name'] = str(u)\n",
    "    network_params['N_rec'] = N_rec\n",
    "    \n",
    "    model_iter = Basic(network_params)\n",
    "\n",
    "    train_params = {\n",
    "        \"training_iters\": training_iters,\n",
    "        \"learning_rate\": learning_rate,\n",
    "    }\n",
    "    \n",
    "    model_iter.train(task, train_params)\n",
    "    save_model(model_iter, u)\n",
    "    \n",
    "    # create df row\n",
    "    s = pd.Series(\n",
    "        {\n",
    "            \"uuid\": str(u),\n",
    "            \"arch\": \"Basic\",\n",
    "            \"dt\": dt,\n",
    "            \"tau\": tau,\n",
    "            \"T\": T,\n",
    "            \"learning_rate\": learning_rate,\n",
    "            \"training_iters\": training_iters,\n",
    "            \"N_rec\": N_rec\n",
    "        }\n",
    "    )\n",
    "\n",
    "    \n",
    "    # append to dataframe\n",
    "    df.loc[df.index.size] = s\n",
    "    \n",
    "    df.to_pickle(\"./models_dataframe.pickle\")\n",
    "    break\n",
    "    model_iter.destruct()\n",
    "    # ---------------------- Test the trained model ---------------------------\n",
    "    # x,target_output,mask, trial_params = task.get_trial_batch() # get pd task inputs and outputs\n",
    "    # model_output, model_state = model.test(x) # run the model on input x"
   ]
  },
  {
   "cell_type": "code",
   "execution_count": 13,
   "id": "5c8d2b56-ed47-4446-ba37-154e4d895b6e",
   "metadata": {},
   "outputs": [
    {
     "data": {
      "text/html": [
       "<div>\n",
       "<style scoped>\n",
       "    .dataframe tbody tr th:only-of-type {\n",
       "        vertical-align: middle;\n",
       "    }\n",
       "\n",
       "    .dataframe tbody tr th {\n",
       "        vertical-align: top;\n",
       "    }\n",
       "\n",
       "    .dataframe thead th {\n",
       "        text-align: right;\n",
       "    }\n",
       "</style>\n",
       "<table border=\"1\" class=\"dataframe\">\n",
       "  <thead>\n",
       "    <tr style=\"text-align: right;\">\n",
       "      <th></th>\n",
       "      <th>dt</th>\n",
       "      <th>tau</th>\n",
       "      <th>T</th>\n",
       "      <th>learning_rate</th>\n",
       "      <th>training_iters</th>\n",
       "      <th>N_rec</th>\n",
       "      <th>uuid</th>\n",
       "      <th>arch</th>\n",
       "    </tr>\n",
       "  </thead>\n",
       "  <tbody>\n",
       "    <tr>\n",
       "      <th>0</th>\n",
       "      <td>1</td>\n",
       "      <td>10</td>\n",
       "      <td>2500</td>\n",
       "      <td>0.0001</td>\n",
       "      <td>100</td>\n",
       "      <td>100</td>\n",
       "      <td>007c7556-87a6-407d-8f28-6ce0b15bac36</td>\n",
       "      <td>Basic</td>\n",
       "    </tr>\n",
       "    <tr>\n",
       "      <th>1</th>\n",
       "      <td>1</td>\n",
       "      <td>10</td>\n",
       "      <td>2500</td>\n",
       "      <td>0.0001</td>\n",
       "      <td>100</td>\n",
       "      <td>300</td>\n",
       "      <td>53f5eff7-872c-4398-826f-3f76e6e7db3f</td>\n",
       "      <td>Basic</td>\n",
       "    </tr>\n",
       "    <tr>\n",
       "      <th>2</th>\n",
       "      <td>1</td>\n",
       "      <td>10</td>\n",
       "      <td>2500</td>\n",
       "      <td>0.0001</td>\n",
       "      <td>100</td>\n",
       "      <td>500</td>\n",
       "      <td>f7789b12-95d0-44b8-9b4b-f7283a3966e4</td>\n",
       "      <td>Basic</td>\n",
       "    </tr>\n",
       "  </tbody>\n",
       "</table>\n",
       "</div>"
      ],
      "text/plain": [
       "  dt tau     T learning_rate training_iters N_rec  \\\n",
       "0  1  10  2500        0.0001            100   100   \n",
       "1  1  10  2500        0.0001            100   300   \n",
       "2  1  10  2500        0.0001            100   500   \n",
       "\n",
       "                                   uuid   arch  \n",
       "0  007c7556-87a6-407d-8f28-6ce0b15bac36  Basic  \n",
       "1  53f5eff7-872c-4398-826f-3f76e6e7db3f  Basic  \n",
       "2  f7789b12-95d0-44b8-9b4b-f7283a3966e4  Basic  "
      ]
     },
     "execution_count": 13,
     "metadata": {},
     "output_type": "execute_result"
    }
   ],
   "source": [
    "df"
   ]
  },
  {
   "cell_type": "code",
   "execution_count": 14,
   "id": "de244b0c-99a2-4cb2-9baa-73503a913abc",
   "metadata": {},
   "outputs": [],
   "source": [
    "saved_model = load_model(\"Basic\", df.iloc[0][\"uuid\"])"
   ]
  },
  {
   "cell_type": "code",
   "execution_count": 17,
   "id": "d5f999f2-511c-404f-a955-83cc60954ea8",
   "metadata": {},
   "outputs": [
    {
     "name": "stderr",
     "output_type": "stream",
     "text": [
      "2022-11-15 23:46:30.882708: I tensorflow/stream_executor/cuda/cuda_gpu_executor.cc:980] successful NUMA node read from SysFS had negative value (-1), but there must be at least one NUMA node, so returning NUMA node zero\n",
      "2022-11-15 23:46:30.883288: I tensorflow/stream_executor/cuda/cuda_gpu_executor.cc:980] successful NUMA node read from SysFS had negative value (-1), but there must be at least one NUMA node, so returning NUMA node zero\n",
      "2022-11-15 23:46:30.883781: I tensorflow/stream_executor/cuda/cuda_gpu_executor.cc:980] successful NUMA node read from SysFS had negative value (-1), but there must be at least one NUMA node, so returning NUMA node zero\n",
      "2022-11-15 23:46:30.884310: I tensorflow/stream_executor/cuda/cuda_gpu_executor.cc:980] successful NUMA node read from SysFS had negative value (-1), but there must be at least one NUMA node, so returning NUMA node zero\n",
      "2022-11-15 23:46:30.884795: I tensorflow/stream_executor/cuda/cuda_gpu_executor.cc:980] successful NUMA node read from SysFS had negative value (-1), but there must be at least one NUMA node, so returning NUMA node zero\n",
      "2022-11-15 23:46:30.885268: I tensorflow/core/common_runtime/gpu/gpu_device.cc:1616] Created device /job:localhost/replica:0/task:0/device:GPU:0 with 21228 MB memory:  -> device: 0, name: NVIDIA GeForce RTX 3090, pci bus id: 0000:0a:00.0, compute capability: 8.6\n"
     ]
    },
    {
     "ename": "KeyError",
     "evalue": "'N_rec'",
     "output_type": "error",
     "traceback": [
      "\u001b[0;31m---------------------------------------------------------------------------\u001b[0m",
      "\u001b[0;31mKeyError\u001b[0m                                  Traceback (most recent call last)",
      "Cell \u001b[0;32mIn [17], line 1\u001b[0m\n\u001b[0;32m----> 1\u001b[0m \u001b[43msaved_model\u001b[49m\u001b[38;5;241;43m.\u001b[39;49m\u001b[43mget_weights\u001b[49m\u001b[43m(\u001b[49m\u001b[43m)\u001b[49m\u001b[43m[\u001b[49m\u001b[38;5;124;43m\"\u001b[39;49m\u001b[38;5;124;43mN_rec\u001b[39;49m\u001b[38;5;124;43m\"\u001b[39;49m\u001b[43m]\u001b[49m\n",
      "\u001b[0;31mKeyError\u001b[0m: 'N_rec'"
     ]
    }
   ],
   "source": [
    "saved_model.get_weights()[\"N_rec\"]"
   ]
  },
  {
   "cell_type": "code",
   "execution_count": 27,
   "id": "8b103254-33cb-40de-8e99-4081f1a4919d",
   "metadata": {},
   "outputs": [
    {
     "data": {
      "image/png": "[encoded data removed]",
      "text/plain": [
       "<Figure size 640x480 with 1 Axes>"
      ]
     },
     "metadata": {},
     "output_type": "display_data"
    }
   ],
   "source": [
    "model_output, model_state = saved_model.test(task.get_trial_batch()[0])\n",
    "\n",
    "for i in range(128):\n",
    "    plt.scatter(model_output[i][:, 0], model_output[i][:, 1], s=1, c=np.arange(model_output.shape[1]))"
   ]
  },
  {
   "cell_type": "code",
   "execution_count": null,
   "id": "ef3e3fd9-e309-475e-8d55-fcad523e18e8",
   "metadata": {},
   "outputs": [],
   "source": []
  }
 ],
 "metadata": {
  "kernelspec": {
   "display_name": "Python 3 (ipykernel)",
   "language": "python",
   "name": "python3"
  },
  "language_info": {
   "codemirror_mode": {
    "name": "ipython",
    "version": 3
   },
   "file_extension": ".py",
   "mimetype": "text/x-python",
   "name": "python",
   "nbconvert_exporter": "python",
   "pygments_lexer": "ipython3",
   "version": "3.9.2"
  }
 },
 "nbformat": 4,
 "nbformat_minor": 5
}
