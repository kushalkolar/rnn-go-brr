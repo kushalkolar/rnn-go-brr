{
 "cells": [
  {
   "cell_type": "code",
   "execution_count": 1,
   "id": "2b6ec7c6-dc74-403e-b59b-0e3ab3cf660b",
   "metadata": {},
   "outputs": [],
   "source": [
    "from psychrnn.tasks.task import Task\n",
    "import numpy as np\n",
    "import scipy.io"
   ]
  },
  {
   "cell_type": "code",
   "execution_count": 2,
   "id": "8e4d2904-583c-4391-9902-92a0661b9c13",
   "metadata": {},
   "outputs": [],
   "source": [
    "import pickle"
   ]
  },
  {
   "cell_type": "code",
   "execution_count": 3,
   "id": "4615d3d5-6c1c-4f99-abd8-ec0e29af7ccf",
   "metadata": {},
   "outputs": [],
   "source": [
    "tina_data = pickle.load(open(\"/home/kushalk/side_positions.pickle\", \"rb\"))"
   ]
  },
  {
   "cell_type": "code",
   "execution_count": 4,
   "id": "c3d306c9-0aa5-417d-8378-b2e7f82dde34",
   "metadata": {},
   "outputs": [],
   "source": [
    "tina_data = np.dstack(tina_data)[:2000, :, :100]"
   ]
  },
  {
   "cell_type": "code",
   "execution_count": 5,
   "id": "c01fb221-8c44-4b37-980f-3e46ff40e238",
   "metadata": {},
   "outputs": [
    {
     "data": {
      "text/plain": [
       "(2000, 2, 100)"
      ]
     },
     "execution_count": 5,
     "metadata": {},
     "output_type": "execute_result"
    }
   ],
   "source": [
    "tina_data.shape"
   ]
  },
  {
   "cell_type": "code",
   "execution_count": 6,
   "id": "46521498-747b-49c8-ae27-fd406408bf56",
   "metadata": {},
   "outputs": [],
   "source": [
    "outcomes = np.load(\"/home/kushalk/succ_fail.npy\").astype(int)"
   ]
  },
  {
   "cell_type": "code",
   "execution_count": 7,
   "id": "6f038ffc-53c6-404e-b786-64c3b4493f0f",
   "metadata": {},
   "outputs": [
    {
     "data": {
      "text/plain": [
       "array([1, 0, 0, 1, 1, 1, 1, 1, 1, 0, 1, 1, 0, 1, 1, 0, 1, 1, 0, 1, 1, 0,\n",
       "       1, 0, 0, 1, 1, 0, 1, 1, 0, 1, 1, 1, 1, 0, 1, 1, 1, 1, 1, 1, 1, 1,\n",
       "       1, 0, 1, 0, 1, 1, 0, 1, 1, 1, 1, 1, 0, 1, 1, 1, 1, 0, 1, 1, 1, 0,\n",
       "       1, 1, 1, 0, 0, 1, 0, 1, 1, 1, 1, 0, 0, 1, 0, 1, 1, 1, 1, 0, 1, 1,\n",
       "       1, 0, 1, 1, 0, 1, 0, 1, 1, 1, 1, 1])"
      ]
     },
     "execution_count": 7,
     "metadata": {},
     "output_type": "execute_result"
    }
   ],
   "source": [
    "outcomes"
   ]
  },
  {
   "cell_type": "code",
   "execution_count": 8,
   "id": "ef36556f-4dce-4c45-88f6-eb287b42d44d",
   "metadata": {},
   "outputs": [],
   "source": [
    "teena_succ = tina_data[:, :, outcomes == 1]"
   ]
  },
  {
   "cell_type": "code",
   "execution_count": 9,
   "id": "ff1e7ab8-e672-4a47-8f66-5c8c0585ffe2",
   "metadata": {},
   "outputs": [
    {
     "data": {
      "text/plain": [
       "72"
      ]
     },
     "execution_count": 9,
     "metadata": {},
     "output_type": "execute_result"
    }
   ],
   "source": [
    "teena_succ.shape[2]"
   ]
  },
  {
   "cell_type": "code",
   "execution_count": 10,
   "id": "26e9eb63-6ae8-45aa-82bd-557d9649ee27",
   "metadata": {},
   "outputs": [],
   "source": [
    "class Reach2Grab(Task):\n",
    "    def __init__(self, dt, tau, T, N_batch):\n",
    "        super(Reach2Grab, self).__init__(1, 2, dt, tau, T, N_batch)\n",
    "\n",
    "    def generate_trial_params(self, batch, trial):\n",
    "        \"\"\"\"Define parameters for each trial.\n",
    "\n",
    "        Using a combination of randomness, presets, and task attributes, define the necessary trial parameters.\n",
    "\n",
    "        Args:\n",
    "            batch (int): The batch number that this trial is part of.\n",
    "            trial (int): The trial number of the trial within the batch.\n",
    "\n",
    "        Returns:\n",
    "            dict: Dictionary of trial parameters.\n",
    "\n",
    "        \"\"\"\n",
    "\n",
    "        # ----------------------------------\n",
    "        # Define parameters of a trial\n",
    "        # ----------------------------------\n",
    "        params = dict()\n",
    "        params[\"trial_ix\"] = np.random.randint(0, teena_succ.shape[2])\n",
    "\n",
    "        return params\n",
    "\n",
    "    def trial_function(self, time, params):\n",
    "        \"\"\" Compute the trial properties at the given time.\n",
    "\n",
    "        Based on the params compute the trial stimulus (x_t), correct output (y_t), and mask (mask_t) at the given time.\n",
    "\n",
    "        Args:\n",
    "            time (int): The time within the trial (0 <= time < T).\n",
    "            params (dict): The trial params produced generate_trial_params()\n",
    "\n",
    "        Returns:\n",
    "            tuple:\n",
    "\n",
    "            x_t (ndarray(dtype=float, shape=(N_in,))): Trial input at time given params.\n",
    "            y_t (ndarray(dtype=float, shape=(N_out,))): Correct trial output at time given params.\n",
    "            mask_t (ndarray(dtype=bool, shape=(N_out,))): True if the network should train to match the y_t, False if the network should ignore y_t when training.\n",
    "\n",
    "        \"\"\"\n",
    "        # x_t = params['direction']\n",
    "        x_t = 1\n",
    "        \n",
    "        # always true because we want the network to train to y_t\n",
    "        \n",
    "        y_t = teena_succ[time, :, params[\"trial_ix\"]]\n",
    "        \n",
    "        mask_t = np.ones(shape=y_t.shape, dtype=bool)\n",
    "        \n",
    "        # trajectory that matches direction \n",
    "        \n",
    "        # y_t returns a trajectory\n",
    "\n",
    "        return x_t, y_t, mask_t"
   ]
  },
  {
   "cell_type": "code",
   "execution_count": 21,
   "id": "e2109a7b-74d4-49a5-8a9a-81b2bff90bce",
   "metadata": {},
   "outputs": [],
   "source": [
    "model.destruct()"
   ]
  },
  {
   "cell_type": "code",
   "execution_count": null,
   "id": "adc4ace3-0a30-4812-9c39-b6a81fd8e5bd",
   "metadata": {},
   "outputs": [
    {
     "name": "stderr",
     "output_type": "stream",
     "text": [
      "2022-11-14 17:56:34.417015: I tensorflow/stream_executor/cuda/cuda_gpu_executor.cc:980] successful NUMA node read from SysFS had negative value (-1), but there must be at least one NUMA node, so returning NUMA node zero\n",
      "2022-11-14 17:56:34.417332: I tensorflow/stream_executor/cuda/cuda_gpu_executor.cc:980] successful NUMA node read from SysFS had negative value (-1), but there must be at least one NUMA node, so returning NUMA node zero\n",
      "2022-11-14 17:56:34.417545: I tensorflow/stream_executor/cuda/cuda_gpu_executor.cc:980] successful NUMA node read from SysFS had negative value (-1), but there must be at least one NUMA node, so returning NUMA node zero\n",
      "2022-11-14 17:56:34.417791: I tensorflow/stream_executor/cuda/cuda_gpu_executor.cc:980] successful NUMA node read from SysFS had negative value (-1), but there must be at least one NUMA node, so returning NUMA node zero\n",
      "2022-11-14 17:56:34.417996: I tensorflow/stream_executor/cuda/cuda_gpu_executor.cc:980] successful NUMA node read from SysFS had negative value (-1), but there must be at least one NUMA node, so returning NUMA node zero\n",
      "2022-11-14 17:56:34.418181: I tensorflow/core/common_runtime/gpu/gpu_device.cc:1616] Created device /job:localhost/replica:0/task:0/device:GPU:0 with 21294 MB memory:  -> device: 0, name: NVIDIA GeForce RTX 3090, pci bus id: 0000:0a:00.0, compute capability: 8.6\n"
     ]
    }
   ],
   "source": [
    "from matplotlib import pyplot as plt\n",
    "\n",
    "from psychrnn.backend.models.basic import Basic\n",
    "\n",
    "# ---------------------- Set up a basic model ---------------------------\n",
    "task = Reach2Grab(dt = 2, tau = 10, T = 2000, N_batch = 128)\n",
    "network_params = task.get_task_params() # get the params passed in and defined in pd\n",
    "network_params['name'] = 'model' # name the model uniquely if running mult models in uniso\n",
    "network_params['N_rec'] = 100 # set the number of recurrent units in the model\n",
    "model = Basic(network_params) # instantiate a basic vanilla RNN\n",
    "\n",
    "# ---------------------- Train a basic model ---------------------------\n",
    "train_params = {\n",
    "    \"training_iters\": 250\n",
    "}\n",
    "model.train(task, train_params) # train model to perform pd task\n",
    "\n",
    "# ---------------------- Test the trained model ---------------------------\n",
    "x,target_output,mask, trial_params = task.get_trial_batch() # get pd task inputs and outputs\n",
    "model_output, model_state = model.test(x) # run the model on input x\n",
    "\n",
    "# ---------------------- Plot the results ---------------------------\n",
    "\n",
    "\n",
    "# ---------------------- Teardown the model -------------------------\n"
   ]
  },
  {
   "cell_type": "code",
   "execution_count": null,
   "id": "42309313-95d3-43d5-9d65-bee43a412793",
   "metadata": {},
   "outputs": [],
   "source": [
    "model_output.shape"
   ]
  },
  {
   "cell_type": "code",
   "execution_count": 19,
   "id": "696eaf4a-6bd8-4f9d-bbeb-f26cbccb6ca4",
   "metadata": {},
   "outputs": [
    {
     "data": {
      "text/plain": [
       "(400, 2)"
      ]
     },
     "execution_count": 19,
     "metadata": {},
     "output_type": "execute_result"
    }
   ],
   "source": [
    "model_output[0].shape"
   ]
  },
  {
   "cell_type": "code",
   "execution_count": 20,
   "id": "c8540bb5-85b1-4b34-bc10-26bb5cba451d",
   "metadata": {},
   "outputs": [
    {
     "data": {
      "image/png": "[encoded data removed]",
      "text/plain": [
       "<Figure size 640x480 with 1 Axes>"
      ]
     },
     "metadata": {},
     "output_type": "display_data"
    }
   ],
   "source": [
    "for i in range(128):\n",
    "    plt.scatter(model_output[i][:, 0], model_output[i][:, 1], s=1, c=np.arange(model_output.shape[1]))"
   ]
  },
  {
   "cell_type": "code",
   "execution_count": null,
   "id": "e18f1a0a-7579-4b3c-b5fd-6410bf58caaa",
   "metadata": {},
   "outputs": [],
   "source": [
    "model.destruct()"
   ]
  }
 ],
 "metadata": {
  "kernelspec": {
   "display_name": "Python 3 (ipykernel)",
   "language": "python",
   "name": "python3"
  },
  "language_info": {
   "codemirror_mode": {
    "name": "ipython",
    "version": 3
   },
   "file_extension": ".py",
   "mimetype": "text/x-python",
   "name": "python",
   "nbconvert_exporter": "python",
   "pygments_lexer": "ipython3",
   "version": "3.9.2"
  }
 },
 "nbformat": 4,
 "nbformat_minor": 5
}
