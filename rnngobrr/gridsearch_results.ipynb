{
 "cells": [
  {
   "cell_type": "code",
   "execution_count": 1,
   "id": "778965f2-1daa-42d9-a46a-c24ee0946e60",
   "metadata": {},
   "outputs": [
    {
     "name": "stderr",
     "output_type": "stream",
     "text": [
      "2022-11-16 03:10:15.350636: I tensorflow/core/platform/cpu_feature_guard.cc:193] This TensorFlow binary is optimized with oneAPI Deep Neural Network Library (oneDNN) to use the following CPU instructions in performance-critical operations:  AVX2 FMA\n",
      "To enable them in other operations, rebuild TensorFlow with the appropriate compiler flags.\n",
      "2022-11-16 03:10:15.448457: E tensorflow/stream_executor/cuda/cuda_blas.cc:2981] Unable to register cuBLAS factory: Attempting to register factory for plugin cuBLAS when one has already been registered\n",
      "2022-11-16 03:10:15.772787: W tensorflow/stream_executor/platform/default/dso_loader.cc:64] Could not load dynamic library 'libnvinfer.so.7'; dlerror: libnvinfer.so.7: cannot open shared object file: No such file or directory; LD_LIBRARY_PATH: /usr/local/cuda-11.2/lib64:/usr/local/cuda-11.2/lib64\n",
      "2022-11-16 03:10:15.772825: W tensorflow/stream_executor/platform/default/dso_loader.cc:64] Could not load dynamic library 'libnvinfer_plugin.so.7'; dlerror: libnvinfer_plugin.so.7: cannot open shared object file: No such file or directory; LD_LIBRARY_PATH: /usr/local/cuda-11.2/lib64:/usr/local/cuda-11.2/lib64\n",
      "2022-11-16 03:10:15.772829: W tensorflow/compiler/tf2tensorrt/utils/py_utils.cc:38] TF-TRT Warning: Cannot dlopen some TensorRT libraries. If you would like to use Nvidia GPU with TensorRT, please make sure the missing libraries mentioned above are installed properly.\n",
      "2022-11-16 03:10:16.233153: I tensorflow/stream_executor/cuda/cuda_gpu_executor.cc:980] successful NUMA node read from SysFS had negative value (-1), but there must be at least one NUMA node, so returning NUMA node zero\n",
      "2022-11-16 03:10:16.237021: I tensorflow/stream_executor/cuda/cuda_gpu_executor.cc:980] successful NUMA node read from SysFS had negative value (-1), but there must be at least one NUMA node, so returning NUMA node zero\n",
      "2022-11-16 03:10:16.237256: I tensorflow/stream_executor/cuda/cuda_gpu_executor.cc:980] successful NUMA node read from SysFS had negative value (-1), but there must be at least one NUMA node, so returning NUMA node zero\n"
     ]
    }
   ],
   "source": [
    "import tensorflow as tf\n",
    "gpus = tf.config.experimental.list_physical_devices('GPU') \n",
    "for gpu in gpus:\n",
    "    tf.config.experimental.set_memory_growth(gpu, True) # limit gpu memory\n",
    "    \n",
    "from psychrnn.tasks.task import Task\n",
    "from psychrnn.backend.models.basic import Basic\n",
    "from psychrnn.backend.models.lstm import LSTM\n",
    "import numpy as np\n",
    "import pandas as pd\n",
    "from typing import *\n",
    "import os\n",
    "import json\n",
    "from uuid import UUID\n",
    "from pathlib import Path\n",
    "from tqdm import tqdm\n",
    "from matplotlib import pyplot as plt"
   ]
  },
  {
   "cell_type": "markdown",
   "id": "f6b20b34-3afd-4c70-9a50-d8857139a40d",
   "metadata": {},
   "source": [
    "# just same stuff as before, load the data, define task\n",
    "### Should move this to a utils module later"
   ]
  },
  {
   "cell_type": "code",
   "execution_count": 2,
   "id": "80d0f1b2-1cd3-4d6d-8661-bb800e35d427",
   "metadata": {},
   "outputs": [],
   "source": [
    "teena_data = pd.read_pickle(\"./teena_df.pickle\")\n",
    "teena_data = teena_data[teena_data[\"sf\"] == True]\n",
    "teena_data_array = np.dstack(teena_data[\"traj\"])\n",
    "traj_data = teena_data_array[:2500, :, :100]"
   ]
  },
  {
   "cell_type": "code",
   "execution_count": 3,
   "id": "17308857-b4b6-47fb-9c21-3b97fcad77be",
   "metadata": {},
   "outputs": [],
   "source": [
    "class Reach2Grab(Task):\n",
    "    def __init__(self, dt, tau, T, N_batch):\n",
    "        super(Reach2Grab, self).__init__(1, 2, dt, tau, T, N_batch)\n",
    "\n",
    "    def generate_trial_params(self, batch, trial):\n",
    "        params = dict()\n",
    "        params[\"trial_ix\"] = np.random.randint(0, traj_data.shape[2])\n",
    "\n",
    "        return params\n",
    "\n",
    "    def trial_function(self, time, params):\n",
    "        x_t = 1 # just a \"go\" cue\n",
    "        y_t = traj_data[time, :, params[\"trial_ix\"]]\n",
    "        \n",
    "        mask_t = np.ones(shape=y_t.shape, dtype=bool)\n",
    "        # y_t returns a trajectory\n",
    "\n",
    "        return x_t, y_t, mask_t"
   ]
  },
  {
   "cell_type": "markdown",
   "id": "d252594b-dcd5-4ee1-adbb-24a08b658a18",
   "metadata": {},
   "source": [
    "# function to load the model from disk"
   ]
  },
  {
   "cell_type": "code",
   "execution_count": 4,
   "id": "b51e07e0-b083-4f22-a6a6-3d11af89a544",
   "metadata": {
    "tags": []
   },
   "outputs": [],
   "source": [
    "def load_model(m: str, u: Union[str, UUID]) -> Union[Basic, LSTM]:\n",
    "    \"\"\"\n",
    "    m: one of \"Basic\" or \"LSTM\"\n",
    "    \n",
    "    u: uuid\n",
    "    \"\"\"\n",
    "    d = Path(f\"/home/kushalk/repos/rnn-go-brr/rnngobrr/models/{u}\")\n",
    "    # need to specify extension, these guys are so inconsistent (╯°□°)╯︵ ┻━┻\n",
    "    weights_path = d.joinpath(\"weights.npz\")\n",
    "    params_path = d.joinpath(\"params.json\")\n",
    "    \n",
    "    params = json.load(open(params_path, \"r\"))\n",
    "    params[\"name\"] = str(u)\n",
    "    params[\"load_weights_path\"] = weights_path\n",
    "    \n",
    "    if m == \"Basic\":\n",
    "        return Basic(params)\n",
    "    elif m == \"LSTM\":\n",
    "        return LSTM(params)"
   ]
  },
  {
   "cell_type": "markdown",
   "id": "83032f48-737c-4013-be44-dab22624d474",
   "metadata": {},
   "source": [
    "# Load the dataframe, do not modify the file on disk or we loose last night's run!"
   ]
  },
  {
   "cell_type": "code",
   "execution_count": 5,
   "id": "cae5ba61-cfa9-48fd-b3b3-01e12cb69c70",
   "metadata": {},
   "outputs": [],
   "source": [
    "df = pd.read_pickle(\"/home/kushalk/repos/rnn-go-brr/rnngobrr/models_dataframe.pickle\")"
   ]
  },
  {
   "cell_type": "code",
   "execution_count": 9,
   "id": "f44026a6-cd9d-41ff-adad-84b365aa0362",
   "metadata": {},
   "outputs": [
    {
     "data": {
      "text/html": [
       "<div>\n",
       "<style scoped>\n",
       "    .dataframe tbody tr th:only-of-type {\n",
       "        vertical-align: middle;\n",
       "    }\n",
       "\n",
       "    .dataframe tbody tr th {\n",
       "        vertical-align: top;\n",
       "    }\n",
       "\n",
       "    .dataframe thead th {\n",
       "        text-align: right;\n",
       "    }\n",
       "</style>\n",
       "<table border=\"1\" class=\"dataframe\">\n",
       "  <thead>\n",
       "    <tr style=\"text-align: right;\">\n",
       "      <th></th>\n",
       "      <th>dt</th>\n",
       "      <th>tau</th>\n",
       "      <th>T</th>\n",
       "      <th>learning_rate</th>\n",
       "      <th>training_iters</th>\n",
       "      <th>N_rec</th>\n",
       "      <th>uuid</th>\n",
       "      <th>arch</th>\n",
       "      <th>task_params</th>\n",
       "    </tr>\n",
       "  </thead>\n",
       "  <tbody>\n",
       "    <tr>\n",
       "      <th>0</th>\n",
       "      <td>1</td>\n",
       "      <td>10</td>\n",
       "      <td>2500</td>\n",
       "      <td>0.0001</td>\n",
       "      <td>100</td>\n",
       "      <td>100</td>\n",
       "      <td>48de2936-2b5f-45cb-9e25-2a05dc033c94</td>\n",
       "      <td>Basic</td>\n",
       "      <td>{'N_batch': 128, 'N_in': 1, 'N_out': 2, 'dt': ...</td>\n",
       "    </tr>\n",
       "    <tr>\n",
       "      <th>1</th>\n",
       "      <td>1</td>\n",
       "      <td>10</td>\n",
       "      <td>2500</td>\n",
       "      <td>0.0001</td>\n",
       "      <td>100</td>\n",
       "      <td>300</td>\n",
       "      <td>0f136bb3-50c1-4eb2-9759-d3f308737b60</td>\n",
       "      <td>Basic</td>\n",
       "      <td>{'N_batch': 128, 'N_in': 1, 'N_out': 2, 'dt': ...</td>\n",
       "    </tr>\n",
       "    <tr>\n",
       "      <th>2</th>\n",
       "      <td>1</td>\n",
       "      <td>10</td>\n",
       "      <td>2500</td>\n",
       "      <td>0.0001</td>\n",
       "      <td>100</td>\n",
       "      <td>500</td>\n",
       "      <td>1e5f996a-fac6-481f-8bed-a1a24705f639</td>\n",
       "      <td>Basic</td>\n",
       "      <td>{'N_batch': 128, 'N_in': 1, 'N_out': 2, 'dt': ...</td>\n",
       "    </tr>\n",
       "    <tr>\n",
       "      <th>3</th>\n",
       "      <td>1</td>\n",
       "      <td>10</td>\n",
       "      <td>2500</td>\n",
       "      <td>0.0001</td>\n",
       "      <td>200</td>\n",
       "      <td>100</td>\n",
       "      <td>ba8e2f75-5733-4675-a2bf-3b9f6fbabb57</td>\n",
       "      <td>Basic</td>\n",
       "      <td>{'N_batch': 128, 'N_in': 1, 'N_out': 2, 'dt': ...</td>\n",
       "    </tr>\n",
       "    <tr>\n",
       "      <th>4</th>\n",
       "      <td>1</td>\n",
       "      <td>10</td>\n",
       "      <td>2500</td>\n",
       "      <td>0.0001</td>\n",
       "      <td>200</td>\n",
       "      <td>300</td>\n",
       "      <td>dda02b10-efbb-4f91-97de-0648aa349312</td>\n",
       "      <td>Basic</td>\n",
       "      <td>{'N_batch': 128, 'N_in': 1, 'N_out': 2, 'dt': ...</td>\n",
       "    </tr>\n",
       "    <tr>\n",
       "      <th>...</th>\n",
       "      <td>...</td>\n",
       "      <td>...</td>\n",
       "      <td>...</td>\n",
       "      <td>...</td>\n",
       "      <td>...</td>\n",
       "      <td>...</td>\n",
       "      <td>...</td>\n",
       "      <td>...</td>\n",
       "      <td>...</td>\n",
       "    </tr>\n",
       "    <tr>\n",
       "      <th>1075</th>\n",
       "      <td>11</td>\n",
       "      <td>160</td>\n",
       "      <td>2500</td>\n",
       "      <td>0.0</td>\n",
       "      <td>400</td>\n",
       "      <td>300</td>\n",
       "      <td>0820d084-7782-4d5e-9f08-80b0f1b1ee7c</td>\n",
       "      <td>Basic</td>\n",
       "      <td>{'N_batch': 128, 'N_in': 1, 'N_out': 2, 'dt': ...</td>\n",
       "    </tr>\n",
       "    <tr>\n",
       "      <th>1076</th>\n",
       "      <td>11</td>\n",
       "      <td>160</td>\n",
       "      <td>2500</td>\n",
       "      <td>0.0</td>\n",
       "      <td>400</td>\n",
       "      <td>500</td>\n",
       "      <td>4821d9ca-8b23-45a5-a7e9-e3b700584a4d</td>\n",
       "      <td>Basic</td>\n",
       "      <td>{'N_batch': 128, 'N_in': 1, 'N_out': 2, 'dt': ...</td>\n",
       "    </tr>\n",
       "    <tr>\n",
       "      <th>1077</th>\n",
       "      <td>11</td>\n",
       "      <td>160</td>\n",
       "      <td>2500</td>\n",
       "      <td>0.0</td>\n",
       "      <td>500</td>\n",
       "      <td>100</td>\n",
       "      <td>00946ae5-e362-4795-90f9-d7bd40e3b53d</td>\n",
       "      <td>Basic</td>\n",
       "      <td>{'N_batch': 128, 'N_in': 1, 'N_out': 2, 'dt': ...</td>\n",
       "    </tr>\n",
       "    <tr>\n",
       "      <th>1078</th>\n",
       "      <td>11</td>\n",
       "      <td>160</td>\n",
       "      <td>2500</td>\n",
       "      <td>0.0</td>\n",
       "      <td>500</td>\n",
       "      <td>300</td>\n",
       "      <td>1d1b2d61-c2cb-4321-9a29-9211da1db691</td>\n",
       "      <td>Basic</td>\n",
       "      <td>{'N_batch': 128, 'N_in': 1, 'N_out': 2, 'dt': ...</td>\n",
       "    </tr>\n",
       "    <tr>\n",
       "      <th>1079</th>\n",
       "      <td>11</td>\n",
       "      <td>160</td>\n",
       "      <td>2500</td>\n",
       "      <td>0.0</td>\n",
       "      <td>500</td>\n",
       "      <td>500</td>\n",
       "      <td>747610d5-10e0-4271-83f4-5c97fa72e911</td>\n",
       "      <td>Basic</td>\n",
       "      <td>{'N_batch': 128, 'N_in': 1, 'N_out': 2, 'dt': ...</td>\n",
       "    </tr>\n",
       "  </tbody>\n",
       "</table>\n",
       "<p>1080 rows × 9 columns</p>\n",
       "</div>"
      ],
      "text/plain": [
       "      dt  tau     T learning_rate training_iters N_rec  \\\n",
       "0      1   10  2500        0.0001            100   100   \n",
       "1      1   10  2500        0.0001            100   300   \n",
       "2      1   10  2500        0.0001            100   500   \n",
       "3      1   10  2500        0.0001            200   100   \n",
       "4      1   10  2500        0.0001            200   300   \n",
       "...   ..  ...   ...           ...            ...   ...   \n",
       "1075  11  160  2500           0.0            400   300   \n",
       "1076  11  160  2500           0.0            400   500   \n",
       "1077  11  160  2500           0.0            500   100   \n",
       "1078  11  160  2500           0.0            500   300   \n",
       "1079  11  160  2500           0.0            500   500   \n",
       "\n",
       "                                      uuid   arch  \\\n",
       "0     48de2936-2b5f-45cb-9e25-2a05dc033c94  Basic   \n",
       "1     0f136bb3-50c1-4eb2-9759-d3f308737b60  Basic   \n",
       "2     1e5f996a-fac6-481f-8bed-a1a24705f639  Basic   \n",
       "3     ba8e2f75-5733-4675-a2bf-3b9f6fbabb57  Basic   \n",
       "4     dda02b10-efbb-4f91-97de-0648aa349312  Basic   \n",
       "...                                    ...    ...   \n",
       "1075  0820d084-7782-4d5e-9f08-80b0f1b1ee7c  Basic   \n",
       "1076  4821d9ca-8b23-45a5-a7e9-e3b700584a4d  Basic   \n",
       "1077  00946ae5-e362-4795-90f9-d7bd40e3b53d  Basic   \n",
       "1078  1d1b2d61-c2cb-4321-9a29-9211da1db691  Basic   \n",
       "1079  747610d5-10e0-4271-83f4-5c97fa72e911  Basic   \n",
       "\n",
       "                                            task_params  \n",
       "0     {'N_batch': 128, 'N_in': 1, 'N_out': 2, 'dt': ...  \n",
       "1     {'N_batch': 128, 'N_in': 1, 'N_out': 2, 'dt': ...  \n",
       "2     {'N_batch': 128, 'N_in': 1, 'N_out': 2, 'dt': ...  \n",
       "3     {'N_batch': 128, 'N_in': 1, 'N_out': 2, 'dt': ...  \n",
       "4     {'N_batch': 128, 'N_in': 1, 'N_out': 2, 'dt': ...  \n",
       "...                                                 ...  \n",
       "1075  {'N_batch': 128, 'N_in': 1, 'N_out': 2, 'dt': ...  \n",
       "1076  {'N_batch': 128, 'N_in': 1, 'N_out': 2, 'dt': ...  \n",
       "1077  {'N_batch': 128, 'N_in': 1, 'N_out': 2, 'dt': ...  \n",
       "1078  {'N_batch': 128, 'N_in': 1, 'N_out': 2, 'dt': ...  \n",
       "1079  {'N_batch': 128, 'N_in': 1, 'N_out': 2, 'dt': ...  \n",
       "\n",
       "[1080 rows x 9 columns]"
      ]
     },
     "execution_count": 9,
     "metadata": {},
     "output_type": "execute_result"
    }
   ],
   "source": [
    "df"
   ]
  },
  {
   "cell_type": "code",
   "execution_count": 6,
   "id": "484476c2-d936-467c-8dd9-efdf2926096d",
   "metadata": {},
   "outputs": [
    {
     "data": {
      "text/plain": [
       "dt                                                                1\n",
       "tau                                                              10\n",
       "T                                                              2500\n",
       "learning_rate                                                0.0001\n",
       "training_iters                                                  100\n",
       "N_rec                                                           100\n",
       "uuid                           48de2936-2b5f-45cb-9e25-2a05dc033c94\n",
       "arch                                                          Basic\n",
       "task_params       {'N_batch': 128, 'N_in': 1, 'N_out': 2, 'dt': ...\n",
       "Name: 0, dtype: object"
      ]
     },
     "execution_count": 6,
     "metadata": {},
     "output_type": "execute_result"
    }
   ],
   "source": [
    "ix = 0\n",
    "row = df.iloc[ix]\n",
    "model = load_model(\"Basic\", row[\"uuid\"])\n",
    "task = Reach2Grab(\n",
    "    dt=row[\"dt\"],\n",
    "    tau=row[\"tau\"],\n",
    "    T=row[\"T\"],\n",
    "    N_batch=128\n",
    ")\n",
    "\n",
    "row"
   ]
  },
  {
   "cell_type": "code",
   "execution_count": 8,
   "id": "f80f103b-cdec-4bfb-a942-6aceba20eced",
   "metadata": {},
   "outputs": [
    {
     "name": "stderr",
     "output_type": "stream",
     "text": [
      "2022-11-16 03:10:46.628510: I tensorflow/core/platform/cpu_feature_guard.cc:193] This TensorFlow binary is optimized with oneAPI Deep Neural Network Library (oneDNN) to use the following CPU instructions in performance-critical operations:  AVX2 FMA\n",
      "To enable them in other operations, rebuild TensorFlow with the appropriate compiler flags.\n",
      "2022-11-16 03:10:46.630498: I tensorflow/stream_executor/cuda/cuda_gpu_executor.cc:980] successful NUMA node read from SysFS had negative value (-1), but there must be at least one NUMA node, so returning NUMA node zero\n",
      "2022-11-16 03:10:46.630789: I tensorflow/stream_executor/cuda/cuda_gpu_executor.cc:980] successful NUMA node read from SysFS had negative value (-1), but there must be at least one NUMA node, so returning NUMA node zero\n",
      "2022-11-16 03:10:46.631005: I tensorflow/stream_executor/cuda/cuda_gpu_executor.cc:980] successful NUMA node read from SysFS had negative value (-1), but there must be at least one NUMA node, so returning NUMA node zero\n",
      "2022-11-16 03:10:46.916709: I tensorflow/stream_executor/cuda/cuda_gpu_executor.cc:980] successful NUMA node read from SysFS had negative value (-1), but there must be at least one NUMA node, so returning NUMA node zero\n",
      "2022-11-16 03:10:46.916928: I tensorflow/stream_executor/cuda/cuda_gpu_executor.cc:980] successful NUMA node read from SysFS had negative value (-1), but there must be at least one NUMA node, so returning NUMA node zero\n",
      "2022-11-16 03:10:46.917099: I tensorflow/stream_executor/cuda/cuda_gpu_executor.cc:980] successful NUMA node read from SysFS had negative value (-1), but there must be at least one NUMA node, so returning NUMA node zero\n",
      "2022-11-16 03:10:46.917263: I tensorflow/core/common_runtime/gpu/gpu_device.cc:1616] Created device /job:localhost/replica:0/task:0/device:GPU:0 with 53 MB memory:  -> device: 0, name: NVIDIA GeForce RTX 3090, pci bus id: 0000:0a:00.0, compute capability: 8.6\n",
      "2022-11-16 03:10:47.246036: I tensorflow/compiler/mlir/mlir_graph_optimization_pass.cc:354] MLIR V1 optimization pass is not enabled\n"
     ]
    },
    {
     "data": {
      "image/png": "[encoded data removed]",
      "text/plain": [
       "<Figure size 640x480 with 1 Axes>"
      ]
     },
     "metadata": {},
     "output_type": "display_data"
    }
   ],
   "source": [
    "with tf.device('/cpu:0'):\n",
    "    output, state = model.test(task.get_trial_batch()[0])\n",
    "\n",
    "for i in range(128):\n",
    "    plt.scatter(output[i][:, 0], output[i][:, 1], s=1, c=np.arange(output.shape[1]))"
   ]
  },
  {
   "cell_type": "code",
   "execution_count": null,
   "id": "a6e7854d-61db-4d01-892f-25bd7e9b42ca",
   "metadata": {},
   "outputs": [],
   "source": []
  }
 ],
 "metadata": {
  "kernelspec": {
   "display_name": "Python 3 (ipykernel)",
   "language": "python",
   "name": "python3"
  },
  "language_info": {
   "codemirror_mode": {
    "name": "ipython",
    "version": 3
   },
   "file_extension": ".py",
   "mimetype": "text/x-python",
   "name": "python",
   "nbconvert_exporter": "python",
   "pygments_lexer": "ipython3",
   "version": "3.9.2"
  }
 },
 "nbformat": 4,
 "nbformat_minor": 5
}
