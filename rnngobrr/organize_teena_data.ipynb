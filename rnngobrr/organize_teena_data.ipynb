{
 "cells": [
  {
   "cell_type": "code",
   "execution_count": 17,
   "id": "180ba2c9-61e5-43e8-b3c2-a52cc561f4a5",
   "metadata": {},
   "outputs": [],
   "source": [
    "import numpy as np\n",
    "from scipy.io import loadmat\n",
    "from matplotlib import pyplot as plt\n",
    "import seaborn as sns\n",
    "from pathlib import Path\n",
    "from tqdm import tqdm\n",
    "from typing import *\n",
    "from scipy.ndimage import gaussian_filter1d\n",
    "import pandas as pd"
   ]
  },
  {
   "cell_type": "code",
   "execution_count": 6,
   "id": "e79da80f-cf91-4c45-91f1-c77cc525c523",
   "metadata": {},
   "outputs": [],
   "source": [
    "behavior_paths = [\n",
    "    \"/data2/kushal/inter_region/JoyJ2/121819_IT/Behavior\",\n",
    "    \"/data2/kushal/inter_region/JoyJ2/121819_PT/Behavior\",\n",
    "    \"/data2/kushal/inter_region/JoyJ2/122019_IT/Behavior\",\n",
    "    \"/data2/kushal/inter_region/JoyJ2/122019_PT/Behavior\",\n",
    "    \n",
    "    \"/data2/kushal/inter_region/JoyM2/072419_IT/Behavior\",\n",
    "    \"/data2/kushal/inter_region/JoyM2/072419_PT/Behavior\",\n",
    "    \"/data2/kushal/inter_region/JoyM2/072519_IT/Behavior\",\n",
    "    \"/data2/kushal/inter_region/JoyM2/072519_PT/Behavior\",\n",
    "    \"/data2/kushal/inter_region/JoyM2/072619_IT/Behavior\",\n",
    "    \"/data2/kushal/inter_region/JoyM2/072619_PT/Behavior\",\n",
    "]\n",
    "\n",
    "behavior_paths = [Path(p) for p in behavior_paths]\n",
    "\n",
    "fname_lift = \"lift_frame_num_all_trials.txt\"\n",
    "fname_success = \"success_flag_all_trials.txt\"\n",
    "\n",
    "for p in behavior_paths:\n",
    "    if not p.joinpath(fname_lift).is_file():\n",
    "        print(f\"missing lift indexing: {p}\")\n",
    "    if not p.joinpath(fname_success).is_file():\n",
    "        print(f\"missing success/fail indexing: {p}\")"
   ]
  },
  {
   "cell_type": "markdown",
   "id": "4d1b88ef-82c4-41c3-b393-493d13f143cf",
   "metadata": {},
   "source": [
    "# verify loading the indexing files works\n",
    "### These lift frame indices are actually garbage and don't make sense, lift frame index is usually ~1600 ¯\\\\\\_(ツ)_/¯ "
   ]
  },
  {
   "cell_type": "code",
   "execution_count": 16,
   "id": "b7bdfcdc-2270-4d0e-ba25-e3b2bbb7fae0",
   "metadata": {},
   "outputs": [
    {
     "data": {
      "text/plain": [
       "array([ 2., 55., 57., 15., 16., 16.,  2., 16., 16., 16.,  3., 20., 55.,\n",
       "       16., 16., 16., 13., 16., 14.,  1., 16.,  4., 15.,  2., 16., 16.,\n",
       "       16., 15., 15., 16., 14., 13., 28., 14., 15., 15., 16., 13., 33.,\n",
       "       16., 15., 27., 16.,  8.,  2., 15., 23.,  7., 11., 15., 16., 15.,\n",
       "       14., 16., 15., 16., nan,  2., 15.,  6.,  6., 15., 12., 25., 15.,\n",
       "       12.,  1., 16., 15.,  7., 13., 16., 16., 15., 15.,  6., 15.,  4.])"
      ]
     },
     "execution_count": 16,
     "metadata": {},
     "output_type": "execute_result"
    }
   ],
   "source": [
    "np.genfromtxt(p.joinpath(fname_lift), delimiter=\",\")"
   ]
  },
  {
   "cell_type": "code",
   "execution_count": 15,
   "id": "998dc139-d80f-4645-bf95-b7c36d1b720c",
   "metadata": {},
   "outputs": [
    {
     "data": {
      "text/plain": [
       "array([ True,  True,  True,  True,  True,  True,  True, False,  True,\n",
       "        True,  True, False,  True,  True,  True,  True,  True,  True,\n",
       "        True, False, False,  True, False,  True,  True,  True,  True,\n",
       "        True,  True,  True,  True,  True, False,  True,  True,  True,\n",
       "        True,  True,  True,  True,  True,  True, False,  True,  True,\n",
       "        True,  True,  True,  True,  True, False, False,  True,  True,\n",
       "        True,  True,  True,  True,  True,  True, False,  True,  True,\n",
       "       False,  True,  True,  True,  True,  True,  True,  True,  True,\n",
       "        True,  True,  True,  True,  True,  True])"
      ]
     },
     "execution_count": 15,
     "metadata": {},
     "output_type": "execute_result"
    }
   ],
   "source": [
    "np.genfromtxt(p.joinpath(fname_success), delimiter=\",\").astype(bool)"
   ]
  },
  {
   "cell_type": "code",
   "execution_count": 22,
   "id": "0af5d7d0-6036-4264-85bb-d2c002079f17",
   "metadata": {},
   "outputs": [
    {
     "name": "stderr",
     "output_type": "stream",
     "text": [
      "100%|█████████████████████████████████████████████████████████████████████████| 10/10 [00:00<00:00, 11.53it/s]\n"
     ]
    }
   ],
   "source": [
    "all_trajectories = pd.DataFrame(columns=[\"traj\", \"file\", \"sf\"])\n",
    "\n",
    "for p in tqdm(behavior_paths):\n",
    "    trk_paths = sorted(p.joinpath(\"side\").glob(\"trk*v*mat\"))\n",
    "    sfs = np.genfromtxt(p.joinpath(fname_success), delimiter=\",\").astype(bool)\n",
    "    \n",
    "    for tp, sf in zip(trk_paths, sfs):\n",
    "        traj = loadmat(str(tp))['pred_locs'][:, 0, :]\n",
    "        \n",
    "        s = pd.Series(\n",
    "            {\n",
    "                \"traj\": traj,\n",
    "                \"file\": tp,\n",
    "                \"sf\": sf\n",
    "            }\n",
    "        )\n",
    "        \n",
    "        # append to dataframe\n",
    "        all_trajectories.loc[all_trajectories.index.size] = s"
   ]
  },
  {
   "cell_type": "code",
   "execution_count": 25,
   "id": "5c22d08e-93e1-449f-b360-f54f15bb217e",
   "metadata": {},
   "outputs": [
    {
     "data": {
      "text/plain": [
       "traj    [[222.1209111213684, 168.07275390625], [221.94...\n",
       "file    /data2/kushal/inter_region/JoyJ2/121819_IT/Beh...\n",
       "sf                                                   True\n",
       "Name: 0, dtype: object"
      ]
     },
     "execution_count": 25,
     "metadata": {},
     "output_type": "execute_result"
    }
   ],
   "source": [
    "all_trajectories.iloc[0]"
   ]
  },
  {
   "cell_type": "code",
   "execution_count": 28,
   "id": "85940617-9ed8-40a2-b48e-8fd358103bd2",
   "metadata": {},
   "outputs": [],
   "source": [
    "all_trajectories.to_pickle(\"./teena_df.pickle\")"
   ]
  },
  {
   "cell_type": "code",
   "execution_count": null,
   "id": "e3dbd66b-c55a-41e8-8e13-7175e7fb2cef",
   "metadata": {},
   "outputs": [],
   "source": []
  }
 ],
 "metadata": {
  "kernelspec": {
   "display_name": "Python 3 (ipykernel)",
   "language": "python",
   "name": "python3"
  },
  "language_info": {
   "codemirror_mode": {
    "name": "ipython",
    "version": 3
   },
   "file_extension": ".py",
   "mimetype": "text/x-python",
   "name": "python",
   "nbconvert_exporter": "python",
   "pygments_lexer": "ipython3",
   "version": "3.9.2"
  }
 },
 "nbformat": 4,
 "nbformat_minor": 5
}
