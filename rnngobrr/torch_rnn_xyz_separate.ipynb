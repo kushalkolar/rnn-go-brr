{
 "cells": [
  {
   "cell_type": "code",
   "execution_count": 1,
   "id": "44d6a59a-b56e-4ac4-b89c-1dd0b6ef0894",
   "metadata": {},
   "outputs": [],
   "source": [
    "import numpy as np\n",
    "import scipy.io\n",
    "import pandas as pd\n",
    "import pickle\n",
    "from itertools import product\n",
    "from typing import *\n",
    "import os\n",
    "from pathlib import Path\n",
    "from tqdm import tqdm\n",
    "from matplotlib import pyplot as plt\n",
    "from fastplotlib import Plot"
   ]
  },
  {
   "cell_type": "code",
   "execution_count": 2,
   "id": "45584155-d10a-49df-bca4-b9f6a46defc7",
   "metadata": {},
   "outputs": [],
   "source": [
    "import torch\n",
    "import torch.nn as nn\n",
    "import torch.optim as optim\n",
    "import torch.nn.functional as F"
   ]
  },
  {
   "cell_type": "code",
   "execution_count": 3,
   "id": "b93b6407-d22b-49d9-988e-85f7b0d33225",
   "metadata": {},
   "outputs": [
    {
     "data": {
      "text/plain": [
       "dict_keys(['__header__', '__version__', '__globals__', 'all_directions_v2', 'direction_YQ1', 'realigned_traj_v2', 'traj_YQ1'])"
      ]
     },
     "execution_count": 3,
     "metadata": {},
     "output_type": "execute_result"
    }
   ],
   "source": [
    "from scipy.io import loadmat\n",
    "\n",
    "m = loadmat(\"/home/kushalk/repos/rnn-go-brr/rnngobrr/yuechen_data.mat\")\n",
    "m.keys()"
   ]
  },
  {
   "cell_type": "code",
   "execution_count": 4,
   "id": "94ca8acf-a854-4d3b-9a71-7b93bc402267",
   "metadata": {},
   "outputs": [
    {
     "data": {
      "text/plain": [
       "array([0, 1, 0, 1, 0, 1, 0, 1, 0, 1, 0, 1, 0, 1, 0, 1, 0, 1, 0, 1, 0, 1,\n",
       "       0, 1, 0, 1, 0, 1, 0, 1, 0, 1, 0, 1, 0, 1, 0, 1, 0, 1, 0, 1, 0, 1,\n",
       "       0, 1, 0, 1, 0, 1, 0, 1, 0, 1, 0, 1, 0, 1, 0, 1, 0, 1, 0, 1, 0, 1,\n",
       "       0, 1, 0, 1, 0, 1, 0, 1, 0, 1, 0, 1, 0, 1, 0, 1, 0, 1, 0, 1, 0, 1,\n",
       "       0, 1, 0, 1, 0, 1, 0, 1, 0, 1, 0, 1, 0, 1, 0, 1, 0, 1, 0, 1, 0, 1,\n",
       "       0, 1, 0, 1, 0, 1, 0, 1, 0, 1, 0, 1, 0, 1, 0, 1, 0, 1, 0, 1, 0, 1,\n",
       "       0, 1, 0, 1, 0, 1, 0, 1, 0, 1, 0, 1, 0, 1, 0, 1, 0, 1, 0, 1, 0, 1,\n",
       "       0, 1], dtype=uint8)"
      ]
     },
     "execution_count": 4,
     "metadata": {},
     "output_type": "execute_result"
    }
   ],
   "source": [
    "directions = m[\"direction_YQ1\"].flatten() - 1\n",
    "np.unique(directions)\n",
    "directions"
   ]
  },
  {
   "cell_type": "code",
   "execution_count": 5,
   "id": "0466f070-31e2-4dd1-8335-2532367677b8",
   "metadata": {},
   "outputs": [],
   "source": [
    "a = m['traj_YQ1']\n",
    "\n",
    "traj_origin = (a.T - a[:, :, 0].T).T"
   ]
  },
  {
   "cell_type": "code",
   "execution_count": 6,
   "id": "4eeec14f-6745-4257-9930-c6eeecb8ce1b",
   "metadata": {},
   "outputs": [
    {
     "data": {
      "text/plain": [
       "(156, 3, 151)"
      ]
     },
     "execution_count": 6,
     "metadata": {},
     "output_type": "execute_result"
    }
   ],
   "source": [
    "traj_origin.shape"
   ]
  },
  {
   "cell_type": "code",
   "execution_count": 7,
   "id": "20332e04-8d23-48b0-8c84-1a6a5daa7a38",
   "metadata": {},
   "outputs": [],
   "source": [
    "traj = np.zeros((traj_origin.shape[0], traj_origin.shape[1] + 1, traj_origin.shape[2]-1))\n",
    "traj[:, :3, :] = traj_origin[:, :, 1:]\n",
    "traj[:, -1, :] = directions.reshape(-1, 1)"
   ]
  },
  {
   "cell_type": "markdown",
   "id": "bd73f4ef-07c9-49e0-9d12-5b99c6071911",
   "metadata": {},
   "source": [
    "### `[n_trials, x-y-z-target_direction, n_timepoints]`"
   ]
  },
  {
   "cell_type": "code",
   "execution_count": 8,
   "id": "e209080f-e65a-440c-a753-a833bb12009b",
   "metadata": {},
   "outputs": [],
   "source": [
    "inputs = dict()\n",
    "targets = dict()\n",
    "for i, d in zip(range(3), [\"x\", \"y\", \"z\"]):\n",
    "    inputs[d] = torch.tensor(traj[:, i, 0], dtype=torch.float32)\n",
    "    targets[d] = torch.tensor(traj[:, i, :], dtype=torch.float32)"
   ]
  },
  {
   "cell_type": "code",
   "execution_count": 9,
   "id": "ffc00f79-10b7-4e2a-b06d-9515c8140298",
   "metadata": {},
   "outputs": [
    {
     "data": {
      "text/plain": [
       "torch.Size([156])"
      ]
     },
     "execution_count": 9,
     "metadata": {},
     "output_type": "execute_result"
    }
   ],
   "source": [
    "inputs[\"x\"].shape"
   ]
  },
  {
   "cell_type": "code",
   "execution_count": 10,
   "id": "f351232a-1630-47a0-96ca-91efd98f589f",
   "metadata": {},
   "outputs": [
    {
     "data": {
      "text/plain": [
       "tensor([ 2.7786e-01,  1.6708e-01, -1.5380e-01,  2.8859e-01,  2.1227e-01,\n",
       "         1.9987e-01,  1.1053e-02,  5.9409e-02, -4.2371e-02,  3.2514e-01,\n",
       "         1.3058e-01,  2.1968e-02,  1.3173e-01, -6.9887e-02, -6.9164e-02,\n",
       "        -1.2414e-01,  1.4844e-01, -1.7066e-01, -1.0156e-01,  4.0183e-01,\n",
       "         3.5782e-02,  6.8470e-02, -3.8421e-01,  3.9055e-01,  1.9090e-01,\n",
       "         5.0985e-02, -3.2464e-01,  3.2621e-01, -4.3204e-01, -5.3776e-02,\n",
       "        -9.8405e-03,  4.4364e-01,  1.2213e-02, -5.2573e-02, -1.4205e-02,\n",
       "         2.0583e-01,  3.0787e-03,  7.8139e-02, -1.5844e-01,  1.2556e-01,\n",
       "        -4.9801e-02,  7.5770e-02,  1.4970e-01, -8.4451e-02, -7.5568e-02,\n",
       "         2.2799e-01,  1.7150e-01,  1.0482e-02,  2.1809e-01, -1.2406e-01,\n",
       "        -4.8354e-03,  2.5671e-01, -9.0102e-02,  1.4876e-02, -6.0885e-02,\n",
       "         8.9228e-02, -1.5578e-01,  3.2629e-01, -1.4811e-02,  3.0648e-01,\n",
       "        -6.7027e-04,  3.0187e-01,  2.8693e-02,  2.4420e-01, -3.9270e-02,\n",
       "         3.4682e-02,  5.1562e-02,  3.2521e-01, -2.1813e-01, -4.5929e-01,\n",
       "         1.5418e-01,  2.9199e-01,  9.7339e-02,  1.5802e-01,  2.2494e-01,\n",
       "         1.4279e-01, -1.3329e-01,  2.7679e-01,  7.0690e-03, -1.5744e-01,\n",
       "         5.5924e-01,  3.5017e-01, -1.3417e-01,  5.6366e-01,  8.5961e-02,\n",
       "         2.8321e-01, -4.0477e-02,  5.0954e-01, -2.0088e-02,  3.9755e-01,\n",
       "        -3.2133e-03,  2.5053e-01, -9.2059e-02,  2.0570e-02, -4.0048e-02,\n",
       "        -5.8779e-01,  2.4702e-01,  3.9541e-01,  9.9927e-02,  4.7028e-01,\n",
       "        -1.9582e-01,  2.8650e-02, -6.5559e-01,  3.8474e-01, -2.5585e-01,\n",
       "        -1.7971e-01,  1.9363e-01,  4.5931e-01, -4.6893e-02,  1.6402e-01,\n",
       "        -7.2914e-02,  1.4508e-01, -1.2827e-01,  2.4667e-01, -2.0781e-01,\n",
       "         2.4923e-01, -2.9318e-01, -1.4007e-01, -1.5256e-01,  1.9967e-01,\n",
       "        -9.0831e-02,  1.0545e-01, -5.8071e-02,  1.3847e-02, -6.5058e-02,\n",
       "         2.1162e-01,  2.7768e-02,  2.9535e-01, -1.6720e-01,  5.3327e-01,\n",
       "        -2.1904e-01,  7.2822e-01,  3.1077e-02,  3.4380e-01, -1.9120e-01,\n",
       "         1.7660e-02, -1.0162e-01,  4.5843e-01,  3.9420e-01,  3.9314e-01,\n",
       "        -1.6612e-01,  2.8874e-01,  3.1129e-01, -3.6820e-01, -1.7427e-01,\n",
       "        -1.8040e-01,  5.6265e-02,  5.3222e-01,  3.9457e-01,  5.1138e-01,\n",
       "         1.9780e-01,  1.8699e-01,  1.7995e-02,  2.9807e-01, -5.4585e-02,\n",
       "         3.3064e-01])"
      ]
     },
     "execution_count": 10,
     "metadata": {},
     "output_type": "execute_result"
    }
   ],
   "source": [
    "inputs[\"x\"]"
   ]
  },
  {
   "cell_type": "code",
   "execution_count": 11,
   "id": "898c78d0-2b39-4bb1-82b5-90f607ce8e19",
   "metadata": {},
   "outputs": [
    {
     "data": {
      "text/plain": [
       "torch.Size([156, 150])"
      ]
     },
     "execution_count": 11,
     "metadata": {},
     "output_type": "execute_result"
    }
   ],
   "source": [
    "targets[\"x\"].shape"
   ]
  },
  {
   "cell_type": "code",
   "execution_count": 36,
   "id": "06847d99-0219-41ee-9d83-03aebdc2b9ac",
   "metadata": {},
   "outputs": [
    {
     "name": "stderr",
     "output_type": "stream",
     "text": [
      "100%|████████████████████████████████████████████████████████████████████| 1000/1000 [00:07<00:00, 141.97it/s]\n"
     ]
    }
   ],
   "source": [
    "import torch\n",
    "from torch import nn, optim\n",
    "import numpy as np\n",
    "import matplotlib.pyplot as plt\n",
    "\n",
    "hidden_size = 500\n",
    "input_size = 1\n",
    "output_size = 1\n",
    "lr = 0.01\n",
    "\n",
    "\n",
    "class Net(nn.Module):\n",
    "    def __init__(self):\n",
    "        super(Net, self).__init__()\n",
    "\n",
    "        self.rnn = nn.RNN(\n",
    "            input_size=input_size,\n",
    "            hidden_size=hidden_size,\n",
    "            num_layers=1,\n",
    "            batch_first=True,\n",
    "            # use batch_first for input with another data shape with b first\n",
    "        )\n",
    "        # compress output to the same dim as y\n",
    "        self.linear = nn.Linear(hidden_size, output_size)\n",
    "\n",
    "    def forward(self, x, hidden_prev):\n",
    "        out, hidden_prev = self.rnn(x, hidden_prev)\n",
    "\n",
    "        # linear layer so that output is not [seq,h] but [seq, 1]\n",
    "        # so it is comparable with y, for loss calculation\n",
    "        out = self.linear(out)  # [seq, h] => [seq, 1]\n",
    "        out = out.unsqueeze(dim=0)  # => [1, seq, 1]\n",
    "        return out, hidden_prev\n",
    "\n",
    "\n",
    "\n",
    "model = Net().cuda()\n",
    "criterion = nn.MSELoss()\n",
    "optimizer = optim.Adam(model.parameters(), lr)\n",
    "\n",
    "hidden_prev = torch.zeros(1, 156, hidden_size).cuda()\n",
    "\n",
    "n_epochs = 1000\n",
    "for n_epoch in tqdm(range(n_epochs)):\n",
    "    x = targets[\"x\"].reshape(156, 150, 1)\n",
    "    y = targets[\"x\"].reshape(156, 150, 1)\n",
    "\n",
    "    output, hidden_prev = model(x.cuda(), hidden_prev)\n",
    "    hidden_prev = hidden_prev.detach()\n",
    "\n",
    "    # print(f\"output {output.shape}, y {y.shape}\")\n",
    "    loss = criterion(output, y.cuda())\n",
    "    model.zero_grad()\n",
    "    # optimizer.zero_grad()\n",
    "    # both zero_grad() are the same if model.parameters() is feed to the same optimizer\n",
    "    # only matters if multiple models using same optimizer or multiple optims used for a model\n",
    "    loss.backward()\n",
    "    optimizer.step()"
   ]
  },
  {
   "cell_type": "code",
   "execution_count": 37,
   "id": "450bf41c-25a9-43ee-8afe-46514722b45b",
   "metadata": {},
   "outputs": [
    {
     "data": {
      "text/plain": [
       "[<matplotlib.lines.Line2D at 0x7fec196bad60>]"
      ]
     },
     "execution_count": 37,
     "metadata": {},
     "output_type": "execute_result"
    },
    {
     "data": {
      "image/png": "[encoded data removed]",
      "text/plain": [
       "<Figure size 640x480 with 1 Axes>"
      ]
     },
     "metadata": {},
     "output_type": "display_data"
    }
   ],
   "source": [
    "plt.plot(output.detach().cpu().numpy()[0, 0, :, 0])"
   ]
  },
  {
   "cell_type": "code",
   "execution_count": null,
   "id": "627f8b97-63a9-4508-ae2e-0f30d0e17303",
   "metadata": {},
   "outputs": [],
   "source": []
  }
 ],
 "metadata": {
  "kernelspec": {
   "display_name": "Python 3 (ipykernel)",
   "language": "python",
   "name": "python3"
  },
  "language_info": {
   "codemirror_mode": {
    "name": "ipython",
    "version": 3
   },
   "file_extension": ".py",
   "mimetype": "text/x-python",
   "name": "python",
   "nbconvert_exporter": "python",
   "pygments_lexer": "ipython3",
   "version": "3.9.2"
  }
 },
 "nbformat": 4,
 "nbformat_minor": 5
}
